{
  "nbformat": 4,
  "nbformat_minor": 0,
  "metadata": {
    "colab": {
      "name": "Untitled2.ipynb",
      "provenance": [],
      "collapsed_sections": [],
      "authorship_tag": "ABX9TyPp5GNVP5fEn6VyZeWxTe8H",
      "include_colab_link": true
    },
    "kernelspec": {
      "name": "python3",
      "display_name": "Python 3"
    },
    "accelerator": "GPU"
  },
  "cells": [
    {
      "cell_type": "markdown",
      "metadata": {
        "id": "view-in-github",
        "colab_type": "text"
      },
      "source": [
        "<a href=\"https://colab.research.google.com/github/katarinagresova/M7DataSP_2020/blob/master/assignment_07/poetrybywords_new.ipynb\" target=\"_parent\"><img src=\"https://colab.research.google.com/assets/colab-badge.svg\" alt=\"Open In Colab\"/></a>"
      ]
    },
    {
      "cell_type": "code",
      "metadata": {
        "id": "CzfwhS6KNKKH"
      },
      "source": [
        "import tensorflow as tf\n",
        "\n",
        "from tensorflow.keras.preprocessing.sequence import pad_sequences\n",
        "from tensorflow.keras.layers import Embedding, LSTM, Dense, Dropout, Bidirectional\n",
        "from tensorflow.keras.preprocessing.text import Tokenizer\n",
        "from tensorflow.keras.models import Sequential\n",
        "from tensorflow.keras.optimizers import Adam\n",
        "import numpy as np "
      ],
      "execution_count": 2,
      "outputs": []
    },
    {
      "cell_type": "code",
      "metadata": {
        "colab": {
          "base_uri": "https://localhost:8080/"
        },
        "id": "Yj_I6Zr7pVsl",
        "outputId": "0c120f02-2a72-4ea4-d0ca-cc8905c760a2"
      },
      "source": [
        "from google.colab import drive\n",
        "drive.mount('/content/drive')"
      ],
      "execution_count": 4,
      "outputs": [
        {
          "output_type": "stream",
          "text": [
            "Mounted at /content/drive\n"
          ],
          "name": "stdout"
        }
      ]
    },
    {
      "cell_type": "code",
      "metadata": {
        "colab": {
          "base_uri": "https://localhost:8080/",
          "height": 35
        },
        "id": "utYZLQaGNNDM",
        "outputId": "faceb97a-1508-415e-d942-02f4fe0b4757"
      },
      "source": [
        "to_exclude = '!\"#$%&—.()*+-/;<=>@[\\\\]^_`{|}~\\t,\\'\\n|'\n",
        "tokenizer = Tokenizer(filters = to_exclude)\n",
        "\n",
        "text = open('/content/drive/MyDrive/DSpraktikum/data/emily-together.txt').read()\n",
        "text = text.replace('—', ' ') # pridane aby odstranilo dlhe -\n",
        "corpus = text.lower().split(\"\\n\")\n",
        "\n",
        "tokenizer.fit_on_texts(corpus)\n",
        "total_words = len(tokenizer.word_index) + 1\n",
        "\n",
        "'''\n",
        "print(tokenizer.word_index)\n",
        "print(total_words)\n",
        "print(corpus)'''"
      ],
      "execution_count": 5,
      "outputs": [
        {
          "output_type": "execute_result",
          "data": {
            "application/vnd.google.colaboratory.intrinsic+json": {
              "type": "string"
            },
            "text/plain": [
              "'\\nprint(tokenizer.word_index)\\nprint(total_words)\\nprint(corpus)'"
            ]
          },
          "metadata": {
            "tags": []
          },
          "execution_count": 5
        }
      ]
    },
    {
      "cell_type": "code",
      "metadata": {
        "id": "soPGVheskaQP"
      },
      "source": [
        "input_sequences = []\n",
        "for line in corpus:\n",
        "\ttoken_list = tokenizer.texts_to_sequences([line])[0]\n",
        "\tfor i in range(1, len(token_list)):\n",
        "\t\tn_gram_sequence = token_list[:i+1]\n",
        "\t\tinput_sequences.append(n_gram_sequence)\n",
        "\n",
        "# pad sequences \n",
        "max_sequence_len = max([len(x) for x in input_sequences])\n",
        "input_sequences = np.array(pad_sequences(input_sequences, maxlen=max_sequence_len, padding='pre'))\n",
        "\n",
        "# create predictors and label\n",
        "xs, labels = input_sequences[:,:-1],input_sequences[:,-1]\n",
        "\n",
        "ys = tf.keras.utils.to_categorical(labels, num_classes=total_words)"
      ],
      "execution_count": 32,
      "outputs": []
    },
    {
      "cell_type": "code",
      "metadata": {
        "id": "w9vH8Y59ajYL",
        "colab": {
          "base_uri": "https://localhost:8080/"
        },
        "outputId": "95d675fd-f58d-4b83-f6ba-b456a707e90c"
      },
      "source": [
        "model = Sequential()\n",
        "model.add(Embedding(total_words, 256, input_length=max_sequence_len-1))\n",
        "model.add(Bidirectional(LSTM(256)))\n",
        "model.add(Dense(total_words, activation='softmax'))\n",
        "adam = Adam(lr=0.01)\n",
        "model.compile(loss='categorical_crossentropy', optimizer=adam, metrics=['accuracy'])\n",
        "#earlystop = EarlyStopping(monitor='val_loss', min_delta=0, patience=5, verbose=0, mode='auto')\n",
        "history = model.fit(xs, ys, epochs=50, verbose=1, batch_size=256)\n",
        "#print model.summary()\n",
        "print(model)\n"
      ],
      "execution_count": 33,
      "outputs": [
        {
          "output_type": "stream",
          "text": [
            "Epoch 1/50\n",
            "107/107 [==============================] - 4s 37ms/step - loss: 7.2601 - accuracy: 0.0584\n",
            "Epoch 2/50\n",
            "107/107 [==============================] - 4s 36ms/step - loss: 6.4110 - accuracy: 0.0822\n",
            "Epoch 3/50\n",
            "107/107 [==============================] - 4s 35ms/step - loss: 5.7475 - accuracy: 0.1120\n",
            "Epoch 4/50\n",
            "107/107 [==============================] - 4s 35ms/step - loss: 4.9604 - accuracy: 0.1557\n",
            "Epoch 5/50\n",
            "107/107 [==============================] - 4s 36ms/step - loss: 4.1198 - accuracy: 0.2318\n",
            "Epoch 6/50\n",
            "107/107 [==============================] - 4s 35ms/step - loss: 3.4027 - accuracy: 0.3295\n",
            "Epoch 7/50\n",
            "107/107 [==============================] - 4s 34ms/step - loss: 2.8187 - accuracy: 0.4285\n",
            "Epoch 8/50\n",
            "107/107 [==============================] - 4s 34ms/step - loss: 2.3187 - accuracy: 0.5220\n",
            "Epoch 9/50\n",
            "107/107 [==============================] - 4s 34ms/step - loss: 1.9633 - accuracy: 0.5949\n",
            "Epoch 10/50\n",
            "107/107 [==============================] - 4s 34ms/step - loss: 1.7258 - accuracy: 0.6452\n",
            "Epoch 11/50\n",
            "107/107 [==============================] - 4s 34ms/step - loss: 1.5442 - accuracy: 0.6807\n",
            "Epoch 12/50\n",
            "107/107 [==============================] - 4s 35ms/step - loss: 1.4278 - accuracy: 0.7065\n",
            "Epoch 13/50\n",
            "107/107 [==============================] - 4s 35ms/step - loss: 1.3513 - accuracy: 0.7179\n",
            "Epoch 14/50\n",
            "107/107 [==============================] - 4s 34ms/step - loss: 1.3031 - accuracy: 0.7246\n",
            "Epoch 15/50\n",
            "107/107 [==============================] - 4s 34ms/step - loss: 1.2689 - accuracy: 0.7258\n",
            "Epoch 16/50\n",
            "107/107 [==============================] - 4s 35ms/step - loss: 1.2462 - accuracy: 0.7288\n",
            "Epoch 17/50\n",
            "107/107 [==============================] - 4s 35ms/step - loss: 1.2320 - accuracy: 0.7298\n",
            "Epoch 18/50\n",
            "107/107 [==============================] - 4s 34ms/step - loss: 1.2146 - accuracy: 0.7310\n",
            "Epoch 19/50\n",
            "107/107 [==============================] - 4s 35ms/step - loss: 1.2046 - accuracy: 0.7294\n",
            "Epoch 20/50\n",
            "107/107 [==============================] - 4s 34ms/step - loss: 1.1956 - accuracy: 0.7300\n",
            "Epoch 21/50\n",
            "107/107 [==============================] - 4s 35ms/step - loss: 1.1879 - accuracy: 0.7307\n",
            "Epoch 22/50\n",
            "107/107 [==============================] - 4s 35ms/step - loss: 1.1840 - accuracy: 0.7309\n",
            "Epoch 23/50\n",
            "107/107 [==============================] - 4s 34ms/step - loss: 1.1819 - accuracy: 0.7310\n",
            "Epoch 24/50\n",
            "107/107 [==============================] - 4s 35ms/step - loss: 1.1801 - accuracy: 0.7309\n",
            "Epoch 25/50\n",
            "107/107 [==============================] - 4s 35ms/step - loss: 1.1846 - accuracy: 0.7287\n",
            "Epoch 26/50\n",
            "107/107 [==============================] - 4s 37ms/step - loss: 1.2201 - accuracy: 0.7231\n",
            "Epoch 27/50\n",
            "107/107 [==============================] - 4s 34ms/step - loss: 1.7767 - accuracy: 0.5920\n",
            "Epoch 28/50\n",
            "107/107 [==============================] - 4s 34ms/step - loss: 2.9352 - accuracy: 0.3756\n",
            "Epoch 29/50\n",
            "107/107 [==============================] - 4s 35ms/step - loss: 2.5570 - accuracy: 0.4422\n",
            "Epoch 30/50\n",
            "107/107 [==============================] - 4s 34ms/step - loss: 1.9376 - accuracy: 0.5638\n",
            "Epoch 31/50\n",
            "107/107 [==============================] - 4s 33ms/step - loss: 1.5739 - accuracy: 0.6518\n",
            "Epoch 32/50\n",
            "107/107 [==============================] - 4s 34ms/step - loss: 1.3902 - accuracy: 0.6999\n",
            "Epoch 33/50\n",
            "107/107 [==============================] - 4s 35ms/step - loss: 1.2886 - accuracy: 0.7224\n",
            "Epoch 34/50\n",
            "107/107 [==============================] - 4s 34ms/step - loss: 1.2384 - accuracy: 0.7285\n",
            "Epoch 35/50\n",
            "107/107 [==============================] - 4s 34ms/step - loss: 1.2133 - accuracy: 0.7315\n",
            "Epoch 36/50\n",
            "107/107 [==============================] - 4s 35ms/step - loss: 1.1986 - accuracy: 0.7316\n",
            "Epoch 37/50\n",
            "107/107 [==============================] - 4s 34ms/step - loss: 1.1840 - accuracy: 0.7329\n",
            "Epoch 38/50\n",
            "107/107 [==============================] - 4s 34ms/step - loss: 1.1782 - accuracy: 0.7320\n",
            "Epoch 39/50\n",
            "107/107 [==============================] - 4s 34ms/step - loss: 1.1721 - accuracy: 0.7325\n",
            "Epoch 40/50\n",
            "107/107 [==============================] - 4s 34ms/step - loss: 1.1658 - accuracy: 0.7317\n",
            "Epoch 41/50\n",
            "107/107 [==============================] - 4s 35ms/step - loss: 1.1641 - accuracy: 0.7326\n",
            "Epoch 42/50\n",
            "107/107 [==============================] - 4s 35ms/step - loss: 1.1624 - accuracy: 0.7326\n",
            "Epoch 43/50\n",
            "107/107 [==============================] - 4s 36ms/step - loss: 1.1605 - accuracy: 0.7317\n",
            "Epoch 44/50\n",
            "107/107 [==============================] - 4s 34ms/step - loss: 1.1596 - accuracy: 0.7315\n",
            "Epoch 45/50\n",
            "107/107 [==============================] - 4s 35ms/step - loss: 1.1540 - accuracy: 0.7321\n",
            "Epoch 46/50\n",
            "107/107 [==============================] - 4s 34ms/step - loss: 1.1531 - accuracy: 0.7324\n",
            "Epoch 47/50\n",
            "107/107 [==============================] - 4s 34ms/step - loss: 1.1539 - accuracy: 0.7311\n",
            "Epoch 48/50\n",
            "107/107 [==============================] - 4s 34ms/step - loss: 1.1526 - accuracy: 0.7310\n",
            "Epoch 49/50\n",
            "107/107 [==============================] - 4s 35ms/step - loss: 1.1482 - accuracy: 0.7317\n",
            "Epoch 50/50\n",
            "107/107 [==============================] - 4s 35ms/step - loss: 1.1481 - accuracy: 0.7306\n",
            "<tensorflow.python.keras.engine.sequential.Sequential object at 0x7fcf53956630>\n"
          ],
          "name": "stdout"
        }
      ]
    },
    {
      "cell_type": "code",
      "metadata": {
        "id": "3YXGelKThoTT"
      },
      "source": [
        "import matplotlib.pyplot as plt\n",
        "\n",
        "\n",
        "def plot_graphs(history, string):\n",
        "  plt.plot(history.history[string])\n",
        "  plt.xlabel(\"Epochs\")\n",
        "  plt.ylabel(string)\n",
        "  plt.show()"
      ],
      "execution_count": 34,
      "outputs": []
    },
    {
      "cell_type": "code",
      "metadata": {
        "id": "poeprYK8h-c7",
        "colab": {
          "base_uri": "https://localhost:8080/",
          "height": 279
        },
        "outputId": "f705bb0f-39d3-4752-c282-ec98dd749648"
      },
      "source": [
        "plot_graphs(history, 'loss')\n"
      ],
      "execution_count": 35,
      "outputs": [
        {
          "output_type": "display_data",
          "data": {
            "image/png": "[encoded data removed]",
            "text/plain": [
              "<Figure size 432x288 with 1 Axes>"
            ]
          },
          "metadata": {
            "tags": [],
            "needs_background": "light"
          }
        }
      ]
    },
    {
      "cell_type": "code",
      "metadata": {
        "id": "6Vc6PHgxa6Hm",
        "colab": {
          "base_uri": "https://localhost:8080/"
        },
        "outputId": "e14968e9-5f9b-4de5-8dc4-0c342f715f50"
      },
      "source": [
        "seed_text = \"truth\"\n",
        "next_words = 50\n",
        "  \n",
        "for _ in range(next_words):\n",
        "\ttoken_list = tokenizer.texts_to_sequences([seed_text])[0]\n",
        "\ttoken_list = pad_sequences([token_list], maxlen=max_sequence_len-1, padding='pre')\n",
        "\tpredicted = model.predict_classes(token_list, verbose=0)\n",
        "\toutput_word = \"\"\n",
        "\tfor word, index in tokenizer.word_index.items():\n",
        "\t\tif index == predicted:\n",
        "\t\t\toutput_word = word\n",
        "\t\t\tbreak\n",
        "\tseed_text += \" \" + output_word\n",
        "print(seed_text)"
      ],
      "execution_count": 36,
      "outputs": [
        {
          "output_type": "stream",
          "text": [
            "truth never was not to a larger poor time will weigh me to me to be us now thrown his name or the bee proclaimed him is best water run home away water seemed er it like a feat heat? the brother reply the way next often reward us ne er\n"
          ],
          "name": "stdout"
        }
      ]
    },
    {
      "cell_type": "code",
      "metadata": {
        "id": "2WPdYJqN0D_D",
        "colab": {
          "base_uri": "https://localhost:8080/"
        },
        "outputId": "705284c3-a8a3-4437-9c81-e16db37704ac"
      },
      "source": [
        "\n",
        "model.save('/content/drive/MyDrive/DSpraktikum/model1')"
      ],
      "execution_count": 38,
      "outputs": [
        {
          "output_type": "stream",
          "text": [
            "INFO:tensorflow:Assets written to: /content/drive/MyDrive/DSpraktikum/model1/assets\n"
          ],
          "name": "stdout"
        }
      ]
    },
    {
      "cell_type": "code",
      "metadata": {
        "id": "uy3akAYKbiy3"
      },
      "source": [
        ""
      ],
      "execution_count": null,
      "outputs": []
    }
  ]
}