{
  "nbformat": 4,
  "nbformat_minor": 0,
  "metadata": {
    "colab": {
      "name": "NeuralNetwork.ipynb",
      "provenance": [],
      "authorship_tag": "ABX9TyOHDe5uNbyMpM8hczPBxosT",
      "include_colab_link": true
    },
    "kernelspec": {
      "name": "python3",
      "display_name": "Python 3"
    }
  },
  "cells": [
    {
      "cell_type": "markdown",
      "metadata": {
        "id": "view-in-github",
        "colab_type": "text"
      },
      "source": [
        "<a href=\"https://colab.research.google.com/github/katarinagresova/M7DataSP_2020/blob/main/assignment_02/NeuralNetwork.ipynb\" target=\"_parent\"><img src=\"https://colab.research.google.com/assets/colab-badge.svg\" alt=\"Open In Colab\"/></a>"
      ]
    },
    {
      "cell_type": "markdown",
      "metadata": {
        "id": "rMaQazfs_WX2"
      },
      "source": [
        "# Data TODOs:\n",
        "- choose dataset\n",
        "- set way of loading data to this notebook"
      ]
    },
    {
      "cell_type": "markdown",
      "metadata": {
        "id": "DVIUJgGf_9nq"
      },
      "source": [
        "# Preprocessing TODOs:\n",
        "- check missing values\n",
        "- do one-hot encoding\n",
        "- (optional: more preprocessing)\n",
        "- split label\n",
        "- split train and test"
      ]
    },
    {
      "cell_type": "markdown",
      "metadata": {
        "id": "cEBjxGSvA3Yd"
      },
      "source": [
        "# Model training TODOs:\n",
        "- create normalizer\n",
        "- define neural network\n",
        "- train neural network\n",
        "- plot the evolution of loss and/or accuracy as a number of epoch increases"
      ]
    },
    {
      "cell_type": "markdown",
      "metadata": {
        "id": "d9V77DSvB4Id"
      },
      "source": [
        "#Evaluating TODOs\n",
        "- evaluate model on test data"
      ]
    }
  ]
}