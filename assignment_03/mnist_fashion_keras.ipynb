{
  "nbformat": 4,
  "nbformat_minor": 0,
  "metadata": {
    "colab": {
      "name": "Copy of mnist_fashion_keras.ipynb",
      "provenance": [],
      "collapsed_sections": [],
      "toc_visible": true,
      "include_colab_link": true
    },
    "kernelspec": {
      "name": "python3",
      "display_name": "Python 3"
    },
    "accelerator": "GPU"
  },
  "cells": [
    {
      "cell_type": "markdown",
      "metadata": {
        "id": "view-in-github",
        "colab_type": "text"
      },
      "source": [
        "<a href=\"https://colab.research.google.com/github/katarinagresova/M7DataSP_2020/blob/main/assignment_03/mnist_fashion_keras.ipynb\" target=\"_parent\"><img src=\"https://colab.research.google.com/assets/colab-badge.svg\" alt=\"Open In Colab\"/></a>"
      ]
    },
    {
      "cell_type": "markdown",
      "metadata": {
        "id": "bmn8nhG3Swyq"
      },
      "source": [
        "## Setup"
      ]
    },
    {
      "cell_type": "code",
      "metadata": {
        "id": "_0aoL6X0OdSi",
        "outputId": "5d3de492-c104-43f1-f155-6cb2d3bd3b40",
        "colab": {
          "base_uri": "https://localhost:8080/",
          "height": 34
        }
      },
      "source": [
        "import matplotlib.pyplot as plt\n",
        "import numpy as np\n",
        "import pandas as pd\n",
        "\n",
        "import tensorflow as tf\n",
        "from tensorflow import keras\n",
        "from tensorflow.keras import layers\n",
        "from keras.layers import Dense, Conv2D, MaxPool2D , Flatten, Dropout\n",
        "\n",
        "print(tf.__version__)"
      ],
      "execution_count": null,
      "outputs": [
        {
          "output_type": "stream",
          "text": [
            "2.3.0\n"
          ],
          "name": "stdout"
        }
      ]
    },
    {
      "cell_type": "markdown",
      "metadata": {
        "id": "nqWh6mUpTtD-"
      },
      "source": [
        "## Data"
      ]
    },
    {
      "cell_type": "code",
      "metadata": {
        "id": "y_SD_6ieSyOA",
        "outputId": "10f75e66-f811-4674-ecb2-b2572ae7de4f",
        "colab": {
          "base_uri": "https://localhost:8080/",
          "height": 170
        }
      },
      "source": [
        "# load Fashion MNIST from Keras repo\n",
        "fashion_mnist = tf.keras.datasets.fashion_mnist\n",
        "(x_train, y_train), (x_test, y_test) = fashion_mnist.load_data()\n",
        "\n",
        "# add extra dimension (to have one channel)\n",
        "x_train = x_train[:,:,:,None]\n",
        "x_test = x_test[:,:,:,None]\n",
        "\n",
        "x_train.shape, y_train.shape, x_test.shape, y_test.shape"
      ],
      "execution_count": null,
      "outputs": [
        {
          "output_type": "stream",
          "text": [
            "Downloading data from https://storage.googleapis.com/tensorflow/tf-keras-datasets/train-labels-idx1-ubyte.gz\n",
            "32768/29515 [=================================] - 0s 0us/step\n",
            "Downloading data from https://storage.googleapis.com/tensorflow/tf-keras-datasets/train-images-idx3-ubyte.gz\n",
            "26427392/26421880 [==============================] - 0s 0us/step\n",
            "Downloading data from https://storage.googleapis.com/tensorflow/tf-keras-datasets/t10k-labels-idx1-ubyte.gz\n",
            "8192/5148 [===============================================] - 0s 0us/step\n",
            "Downloading data from https://storage.googleapis.com/tensorflow/tf-keras-datasets/t10k-images-idx3-ubyte.gz\n",
            "4423680/4422102 [==============================] - 0s 0us/step\n"
          ],
          "name": "stdout"
        },
        {
          "output_type": "execute_result",
          "data": {
            "text/plain": [
              "((60000, 28, 28, 1), (60000,), (10000, 28, 28, 1), (10000,))"
            ]
          },
          "metadata": {
            "tags": []
          },
          "execution_count": 2
        }
      ]
    },
    {
      "cell_type": "code",
      "metadata": {
        "id": "R7gREnSlTdUV"
      },
      "source": [
        "clothes_labels = ['T-shirt/top', 'Trouser', 'Pullover', 'Dress', 'Coat',\n",
        "                  'Sandal', 'Shirt', 'Sneaker', 'Bag', 'Ankle boot']"
      ],
      "execution_count": null,
      "outputs": []
    },
    {
      "cell_type": "code",
      "metadata": {
        "id": "ihnXpLvXXg1L"
      },
      "source": [
        "# Normalize values from [0, 255] to [0, 1] interval\n",
        "x_train = x_train / 255\n",
        "x_test = x_test / 255"
      ],
      "execution_count": null,
      "outputs": []
    },
    {
      "cell_type": "code",
      "metadata": {
        "id": "vufNZxMhZ8Bk",
        "outputId": "95c0d974-1a2c-4155-b38f-2bbe1c7a8d52",
        "colab": {
          "base_uri": "https://localhost:8080/",
          "height": 34
        }
      },
      "source": [
        "y_train = keras.utils.to_categorical(y_train, 10)\n",
        "y_test = keras.utils.to_categorical(y_test, 10)\n",
        "\n",
        "y_train.shape"
      ],
      "execution_count": null,
      "outputs": [
        {
          "output_type": "execute_result",
          "data": {
            "text/plain": [
              "(60000, 10)"
            ]
          },
          "metadata": {
            "tags": []
          },
          "execution_count": 5
        }
      ]
    },
    {
      "cell_type": "markdown",
      "metadata": {
        "id": "JFsDzcrJWsK5"
      },
      "source": [
        "## Plotting"
      ]
    },
    {
      "cell_type": "code",
      "metadata": {
        "id": "2Q25XXmGTrqG",
        "outputId": "dd41c516-de82-4ea1-dc9b-0457f27ece95",
        "colab": {
          "base_uri": "https://localhost:8080/",
          "height": 534
        }
      },
      "source": [
        "def plot_image(x, title = \"\"):\n",
        "  plt.xticks([])\n",
        "  plt.yticks([])\n",
        "  plt.grid(False)\n",
        "  plt.imshow(x, cmap=plt.cm.binary)\n",
        "  plt.xlabel(title)\n",
        "\n",
        "plt.figure(figsize=(8,8))\n",
        "for i in range(0, 160, 10):\n",
        "  plt.subplot(4, 4, i // 10 + 1)\n",
        "  plot_image(x_train[i].squeeze(), y_train[i])\n"
      ],
      "execution_count": null,
      "outputs": [
        {
          "output_type": "stream",
          "text": [
            "/usr/local/lib/python3.6/dist-packages/matplotlib/text.py:1165: FutureWarning: elementwise comparison failed; returning scalar instead, but in the future will perform elementwise comparison\n",
            "  if s != self._text:\n"
          ],
          "name": "stderr"
        },
        {
          "output_type": "display_data",
          "data": {
            "image/png": "[encoded data removed]",
            "text/plain": [
              "<Figure size 576x576 with 16 Axes>"
            ]
          },
          "metadata": {
            "tags": []
          }
        }
      ]
    },
    {
      "cell_type": "markdown",
      "metadata": {
        "id": "mpFZl79kf8Ld"
      },
      "source": [
        "## Convolutional Neural Network\n",
        "\n",
        "Goal of this part of homework is: \"Play a bit with the model architecture, learning rate and other parameters. Train only for 10 epochs but try to get as high accuracy as possible.\"\n",
        "\n",
        "TODO:\n",
        "\n",
        "*   More comparisons - architectures, parameters\n",
        "*   Improve plotting of results\n",
        "\n",
        "\n",
        "\n"
      ]
    },
    {
      "cell_type": "markdown",
      "metadata": {
        "id": "rObr6W_o7jBV"
      },
      "source": [
        "### Model definitions\n",
        "\n",
        "We can create multiple models and compare their performance. All models will be stored in variable `models`."
      ]
    },
    {
      "cell_type": "code",
      "metadata": {
        "id": "0L0gjLmpria7"
      },
      "source": [
        "#holder for all models\n",
        "models = []"
      ],
      "execution_count": null,
      "outputs": []
    },
    {
      "cell_type": "code",
      "metadata": {
        "id": "-rceUxk9ffgs",
        "outputId": "439d4b14-8de6-4e8a-a7a8-7cec3bf3b97e",
        "colab": {
          "base_uri": "https://localhost:8080/",
          "height": 391
        }
      },
      "source": [
        "cnn_model = keras.Sequential([\n",
        "      layers.Conv2D(input_shape=(28,28,1), filters = 32, kernel_size = (3,3), activation = 'relu'),\n",
        "      layers.Dropout(0.6),\n",
        "      layers.Conv2D(filters = 32, kernel_size = (3,3), activation = 'relu'),\n",
        "      layers.Flatten(),\n",
        "      layers.Dense(128, activation='relu'),\n",
        "      layers.Dropout(0.6),\n",
        "      layers.Dense(10, activation='softmax')\n",
        "])\n",
        "\n",
        "models.append([\"cnn\", cnn_model])\n",
        "\n",
        "cnn_model.summary()"
      ],
      "execution_count": null,
      "outputs": [
        {
          "output_type": "stream",
          "text": [
            "Model: \"sequential_2\"\n",
            "_________________________________________________________________\n",
            "Layer (type)                 Output Shape              Param #   \n",
            "=================================================================\n",
            "conv2d_7 (Conv2D)            (None, 26, 26, 32)        320       \n",
            "_________________________________________________________________\n",
            "dropout_4 (Dropout)          (None, 26, 26, 32)        0         \n",
            "_________________________________________________________________\n",
            "conv2d_8 (Conv2D)            (None, 24, 24, 32)        9248      \n",
            "_________________________________________________________________\n",
            "flatten_2 (Flatten)          (None, 18432)             0         \n",
            "_________________________________________________________________\n",
            "dense_5 (Dense)              (None, 128)               2359424   \n",
            "_________________________________________________________________\n",
            "dropout_5 (Dropout)          (None, 128)               0         \n",
            "_________________________________________________________________\n",
            "dense_6 (Dense)              (None, 10)                1290      \n",
            "=================================================================\n",
            "Total params: 2,370,282\n",
            "Trainable params: 2,370,282\n",
            "Non-trainable params: 0\n",
            "_________________________________________________________________\n"
          ],
          "name": "stdout"
        }
      ]
    },
    {
      "cell_type": "code",
      "metadata": {
        "id": "Hwfx8Fk0tCy_",
        "outputId": "048993b9-6a6a-437d-c86f-d299630b55ea",
        "colab": {
          "base_uri": "https://localhost:8080/",
          "height": 595
        }
      },
      "source": [
        "#architecture inspired by VGG16\n",
        "vgg16_model = keras.Sequential([\n",
        "      Conv2D(input_shape=(28,28,1),filters=64,kernel_size=(3,3),padding=\"same\", activation=\"relu\"),\n",
        "      Conv2D(filters=64, kernel_size=(3,3), padding=\"same\", activation=\"relu\"),\n",
        "      MaxPool2D(pool_size=(2,2),strides=(2,2)),\n",
        "      Conv2D(filters=128, kernel_size=(3,3), padding=\"same\", activation=\"relu\"),\n",
        "      Conv2D(filters=128, kernel_size=(3,3), padding=\"same\", activation=\"relu\"),\n",
        "      Conv2D(filters=128, kernel_size=(3,3), padding=\"same\", activation=\"relu\"),\n",
        "      MaxPool2D(pool_size=(2,2),strides=(2,2)),\n",
        "      Flatten(),\n",
        "      Dense(units=4096,activation=\"relu\"),\n",
        "      Dropout(0.6),\n",
        "      Dense(units=4096,activation=\"relu\"),\n",
        "      Dropout(0.6),\n",
        "      Dense(units=10, activation=\"softmax\")\n",
        "])\n",
        "\n",
        "models.append([\"vgg16\", vgg16_model])\n",
        "\n",
        "vgg16_model.summary()"
      ],
      "execution_count": null,
      "outputs": [
        {
          "output_type": "stream",
          "text": [
            "Model: \"sequential_3\"\n",
            "_________________________________________________________________\n",
            "Layer (type)                 Output Shape              Param #   \n",
            "=================================================================\n",
            "conv2d_9 (Conv2D)            (None, 28, 28, 64)        640       \n",
            "_________________________________________________________________\n",
            "conv2d_10 (Conv2D)           (None, 28, 28, 64)        36928     \n",
            "_________________________________________________________________\n",
            "max_pooling2d_2 (MaxPooling2 (None, 14, 14, 64)        0         \n",
            "_________________________________________________________________\n",
            "conv2d_11 (Conv2D)           (None, 14, 14, 128)       73856     \n",
            "_________________________________________________________________\n",
            "conv2d_12 (Conv2D)           (None, 14, 14, 128)       147584    \n",
            "_________________________________________________________________\n",
            "conv2d_13 (Conv2D)           (None, 14, 14, 128)       147584    \n",
            "_________________________________________________________________\n",
            "max_pooling2d_3 (MaxPooling2 (None, 7, 7, 128)         0         \n",
            "_________________________________________________________________\n",
            "flatten_3 (Flatten)          (None, 6272)              0         \n",
            "_________________________________________________________________\n",
            "dense_7 (Dense)              (None, 4096)              25694208  \n",
            "_________________________________________________________________\n",
            "dropout_6 (Dropout)          (None, 4096)              0         \n",
            "_________________________________________________________________\n",
            "dense_8 (Dense)              (None, 4096)              16781312  \n",
            "_________________________________________________________________\n",
            "dropout_7 (Dropout)          (None, 4096)              0         \n",
            "_________________________________________________________________\n",
            "dense_9 (Dense)              (None, 10)                40970     \n",
            "=================================================================\n",
            "Total params: 42,923,082\n",
            "Trainable params: 42,923,082\n",
            "Non-trainable params: 0\n",
            "_________________________________________________________________\n"
          ],
          "name": "stdout"
        }
      ]
    },
    {
      "cell_type": "markdown",
      "metadata": {
        "id": "L4ZQ8kyn6nnf"
      },
      "source": [
        "### Evaluation"
      ]
    },
    {
      "cell_type": "code",
      "metadata": {
        "id": "RJN22tEh1gdQ"
      },
      "source": [
        "histories = []"
      ],
      "execution_count": null,
      "outputs": []
    },
    {
      "cell_type": "code",
      "metadata": {
        "id": "A8KHEZpLtMVU",
        "outputId": "1b8228be-d049-4842-fd4f-4b2d38148875",
        "colab": {
          "base_uri": "https://localhost:8080/",
          "height": 768
        }
      },
      "source": [
        "for model in models:\n",
        "  model[1].compile(loss='categorical_crossentropy', \n",
        "                  optimizer=tf.keras.optimizers.Adam(lr=0.001),\n",
        "                  metrics=['accuracy'])\n",
        "  print(\"Running model:\", model[0])\n",
        "  histories.append([model[0],\n",
        "      model[1].fit(\n",
        "        x_train, y_train,\n",
        "        batch_size = 256,\n",
        "        epochs = 10,\n",
        "        validation_data = (x_test, y_test),\n",
        "        verbose = 1\n",
        "      )\n",
        "  ])"
      ],
      "execution_count": null,
      "outputs": [
        {
          "output_type": "stream",
          "text": [
            "Running model:  cnn\n",
            "Epoch 1/10\n",
            "235/235 [==============================] - 3s 13ms/step - loss: 0.7070 - accuracy: 0.7528 - val_loss: 0.4462 - val_accuracy: 0.8368\n",
            "Epoch 2/10\n",
            "235/235 [==============================] - 3s 12ms/step - loss: 0.4860 - accuracy: 0.8292 - val_loss: 0.3767 - val_accuracy: 0.8620\n",
            "Epoch 3/10\n",
            "235/235 [==============================] - 3s 12ms/step - loss: 0.4255 - accuracy: 0.8483 - val_loss: 0.3382 - val_accuracy: 0.8731\n",
            "Epoch 4/10\n",
            "235/235 [==============================] - 3s 12ms/step - loss: 0.3855 - accuracy: 0.8616 - val_loss: 0.3170 - val_accuracy: 0.8826\n",
            "Epoch 5/10\n",
            "235/235 [==============================] - 3s 11ms/step - loss: 0.3591 - accuracy: 0.8701 - val_loss: 0.2967 - val_accuracy: 0.8908\n",
            "Epoch 6/10\n",
            "235/235 [==============================] - 3s 11ms/step - loss: 0.3351 - accuracy: 0.8769 - val_loss: 0.2870 - val_accuracy: 0.8940\n",
            "Epoch 7/10\n",
            "235/235 [==============================] - 3s 11ms/step - loss: 0.3176 - accuracy: 0.8851 - val_loss: 0.2773 - val_accuracy: 0.8981\n",
            "Epoch 8/10\n",
            "235/235 [==============================] - 3s 12ms/step - loss: 0.3042 - accuracy: 0.8880 - val_loss: 0.2738 - val_accuracy: 0.8983\n",
            "Epoch 9/10\n",
            "235/235 [==============================] - 3s 11ms/step - loss: 0.2863 - accuracy: 0.8947 - val_loss: 0.2629 - val_accuracy: 0.9030\n",
            "Epoch 10/10\n",
            "235/235 [==============================] - 3s 12ms/step - loss: 0.2728 - accuracy: 0.8987 - val_loss: 0.2617 - val_accuracy: 0.9047\n",
            "Running model:  vgg16\n",
            "Epoch 1/10\n",
            "  2/235 [..............................] - ETA: 10s - loss: 2.2720 - accuracy: 0.1621WARNING:tensorflow:Callbacks method `on_train_batch_end` is slow compared to the batch time (batch time: 0.0212s vs `on_train_batch_end` time: 0.0367s). Check your callbacks.\n",
            "235/235 [==============================] - 14s 59ms/step - loss: 0.4796 - accuracy: 0.8237 - val_loss: 0.2874 - val_accuracy: 0.8951\n",
            "Epoch 2/10\n",
            "235/235 [==============================] - 14s 59ms/step - loss: 0.2568 - accuracy: 0.9065 - val_loss: 0.2732 - val_accuracy: 0.9021\n",
            "Epoch 3/10\n",
            "235/235 [==============================] - 14s 59ms/step - loss: 0.2170 - accuracy: 0.9209 - val_loss: 0.2346 - val_accuracy: 0.9142\n",
            "Epoch 4/10\n",
            "235/235 [==============================] - 14s 59ms/step - loss: 0.1870 - accuracy: 0.9314 - val_loss: 0.2179 - val_accuracy: 0.9228\n",
            "Epoch 5/10\n",
            "235/235 [==============================] - 14s 60ms/step - loss: 0.1596 - accuracy: 0.9417 - val_loss: 0.2122 - val_accuracy: 0.9244\n",
            "Epoch 6/10\n",
            "235/235 [==============================] - 14s 60ms/step - loss: 0.1401 - accuracy: 0.9479 - val_loss: 0.2089 - val_accuracy: 0.9278\n",
            "Epoch 7/10\n",
            "235/235 [==============================] - 14s 60ms/step - loss: 0.1228 - accuracy: 0.9542 - val_loss: 0.2186 - val_accuracy: 0.9206\n",
            "Epoch 8/10\n",
            "235/235 [==============================] - 14s 60ms/step - loss: 0.1061 - accuracy: 0.9608 - val_loss: 0.2420 - val_accuracy: 0.9249\n",
            "Epoch 9/10\n",
            "235/235 [==============================] - 14s 61ms/step - loss: 0.0923 - accuracy: 0.9667 - val_loss: 0.2423 - val_accuracy: 0.9283\n",
            "Epoch 10/10\n",
            "235/235 [==============================] - 14s 61ms/step - loss: 0.0800 - accuracy: 0.9706 - val_loss: 0.2641 - val_accuracy: 0.9280\n"
          ],
          "name": "stdout"
        }
      ]
    },
    {
      "cell_type": "code",
      "metadata": {
        "id": "-PByq3FVehBt"
      },
      "source": [
        "def plot_loss(history, ylim=(0,1)):\n",
        "  plt.plot(history[1].history['accuracy'], label=history[0]+':accuracy')\n",
        "  plt.plot(history[1].history['val_accuracy'], label=history[0]+':val_accuracy')\n",
        "  plt.ylim(ylim)\n",
        "  plt.xlabel('Epoch')\n",
        "  plt.ylabel('Accuracy')\n",
        "  plt.legend()\n",
        "  plt.grid(True)"
      ],
      "execution_count": null,
      "outputs": []
    },
    {
      "cell_type": "code",
      "metadata": {
        "id": "tIU6HWHq3JAI",
        "outputId": "72688d4b-3954-4c58-bc4d-fae370109627",
        "colab": {
          "base_uri": "https://localhost:8080/",
          "height": 283
        }
      },
      "source": [
        "for history in histories:\n",
        "  plot_loss(history, ylim=(0.7, 1))"
      ],
      "execution_count": null,
      "outputs": [
        {
          "output_type": "display_data",
          "data": {
            "image/png": "[encoded data removed]",
            "text/plain": [
              "<Figure size 432x288 with 1 Axes>"
            ]
          },
          "metadata": {
            "tags": [],
            "needs_background": "light"
          }
        }
      ]
    }
  ]
}