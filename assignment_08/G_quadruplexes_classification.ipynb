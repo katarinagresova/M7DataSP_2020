{
  "nbformat": 4,
  "nbformat_minor": 0,
  "metadata": {
    "colab": {
      "name": "Copy of G-quadruplexes_classification.ipynb",
      "provenance": [],
      "toc_visible": true,
      "include_colab_link": true
    },
    "kernelspec": {
      "name": "python3",
      "display_name": "Python 3"
    },
    "accelerator": "GPU"
  },
  "cells": [
    {
      "cell_type": "markdown",
      "metadata": {
        "id": "view-in-github",
        "colab_type": "text"
      },
      "source": [
        "<a href=\"https://colab.research.google.com/github/katarinagresova/M7DataSP_2020/blob/master/assignment_08/G_quadruplexes_classification.ipynb\" target=\"_parent\"><img src=\"https://colab.research.google.com/assets/colab-badge.svg\" alt=\"Open In Colab\"/></a>"
      ]
    },
    {
      "cell_type": "markdown",
      "metadata": {
        "id": "q291sOCP1rwt"
      },
      "source": [
        "This notebook was created for classification of G-quadruplexes, which was part of [assignment 08](https://github.com/simecek/dspracticum2020/tree/master/lecture_08/assignment) in subject [Data Science Practicum 2020](https://github.com/simecek/dspracticum2020). Most of the code was taken from [G4_benchmark notebook](https://github.com/simecek/dspracticum2020/blob/master/lecture_08/assignment/g4/G4_benchmark.ipynb).\n",
        "\n",
        "Several architectures were tried, but the best results were from model created by concatenating cnn model and lstm model."
      ]
    },
    {
      "cell_type": "markdown",
      "metadata": {
        "id": "gQ8os0p0Owbz"
      },
      "source": [
        "#Setup"
      ]
    },
    {
      "cell_type": "code",
      "metadata": {
        "colab": {
          "base_uri": "https://localhost:8080/"
        },
        "id": "N9qPDH2QOtfj",
        "outputId": "34bc68de-849e-4443-eb92-d26e250ab82a"
      },
      "source": [
        "!pip install biopython"
      ],
      "execution_count": 1,
      "outputs": [
        {
          "output_type": "stream",
          "text": [
            "Collecting biopython\n",
            "\u001b[?25l  Downloading https://files.pythonhosted.org/packages/76/02/8b606c4aa92ff61b5eda71d23b499ab1de57d5e818be33f77b01a6f435a8/biopython-1.78-cp36-cp36m-manylinux1_x86_64.whl (2.3MB)\n",
            "\u001b[K     |████████████████████████████████| 2.3MB 21.2MB/s \n",
            "\u001b[?25hRequirement already satisfied: numpy in /usr/local/lib/python3.6/dist-packages (from biopython) (1.18.5)\n",
            "Installing collected packages: biopython\n",
            "Successfully installed biopython-1.78\n"
          ],
          "name": "stdout"
        }
      ]
    },
    {
      "cell_type": "code",
      "metadata": {
        "id": "yIxCKRHF5D8-"
      },
      "source": [
        "import urllib.request\n",
        "from pathlib import Path\n",
        "from Bio import SeqIO\n",
        "import numpy as np\n",
        "import gzip\n",
        "\n",
        "import tensorflow as tf\n",
        "from tensorflow import keras\n",
        "from tensorflow.keras.layers.experimental.preprocessing import TextVectorization"
      ],
      "execution_count": 2,
      "outputs": []
    },
    {
      "cell_type": "markdown",
      "metadata": {
        "id": "FC2ipgfn5SVd"
      },
      "source": [
        "#Reshaping data from fasta to txt\n"
      ]
    },
    {
      "cell_type": "code",
      "metadata": {
        "id": "p6lYb5hz5ThF"
      },
      "source": [
        "classes = ['notpresent', 'present']\n",
        "sets = ['train', 'valid']\n",
        "\n",
        "for c in classes:\n",
        "    for s in sets:\n",
        "        urllib.request.urlretrieve(f\"https://github.com/simecek/dspracticum2020/raw/master/lecture_08/assignment/g4/g4_{c}_{s}.fa.gz\", f\"g4_{c}_{s}.fa.gz\")"
      ],
      "execution_count": 3,
      "outputs": []
    },
    {
      "cell_type": "code",
      "metadata": {
        "id": "3jUmyS3F5YXE"
      },
      "source": [
        "for c in classes:\n",
        "    for s in sets:\n",
        "        Path(f\"data/{s}/{c}\").mkdir(parents=True, exist_ok=True)"
      ],
      "execution_count": 4,
      "outputs": []
    },
    {
      "cell_type": "code",
      "metadata": {
        "id": "eQ5IP2n_5aV1",
        "colab": {
          "base_uri": "https://localhost:8080/"
        },
        "outputId": "4471545a-56a5-486a-a1af-40f2fe4b2f6f"
      },
      "source": [
        "counter = {}\n",
        "for c in classes:\n",
        "    counter[c] = 0\n",
        "    for s in sets:\n",
        "        with gzip.open(f\"g4_{c}_{s}.fa.gz\", \"rt\") as handle:\n",
        "            for record in SeqIO.parse(handle, \"fasta\"):\n",
        "                counter[c] += 1\n",
        "                id = record.id\n",
        "                with open(f\"data/{s}/{c}/{id}.txt\", \"w\") as fw:\n",
        "                    fw.writelines([\" \".join(str(record.seq))])\n",
        "\n",
        "for s in counter:\n",
        "  print(f\"Found {counter[s]} records of class {s}\")"
      ],
      "execution_count": 5,
      "outputs": [
        {
          "output_type": "stream",
          "text": [
            "Found 150000 records of class notpresent\n",
            "Found 150000 records of class present\n"
          ],
          "name": "stdout"
        }
      ]
    },
    {
      "cell_type": "markdown",
      "metadata": {
        "id": "IgHe6ziGmrER"
      },
      "source": [
        "So we are working with balanced dataset."
      ]
    },
    {
      "cell_type": "markdown",
      "metadata": {
        "id": "KISa3GWF6KEh"
      },
      "source": [
        "#Reading data"
      ]
    },
    {
      "cell_type": "code",
      "metadata": {
        "id": "FuOJLPsx6Jzn",
        "colab": {
          "base_uri": "https://localhost:8080/"
        },
        "outputId": "3fab3af5-394b-4ee4-f0d7-a6e0cd5cf904"
      },
      "source": [
        "batch_size = 512\n",
        "\n",
        "raw_train_ds = tf.keras.preprocessing.text_dataset_from_directory(\n",
        "    'data/train/',\n",
        "    batch_size=batch_size,\n",
        "    class_names=classes)"
      ],
      "execution_count": 15,
      "outputs": [
        {
          "output_type": "stream",
          "text": [
            "Found 210000 files belonging to 2 classes.\n"
          ],
          "name": "stdout"
        }
      ]
    },
    {
      "cell_type": "code",
      "metadata": {
        "id": "fUq-WOpp6Qgk",
        "colab": {
          "base_uri": "https://localhost:8080/"
        },
        "outputId": "f4e6046e-af5b-4eac-f887-0ee345eff100"
      },
      "source": [
        "raw_valid_ds = tf.keras.preprocessing.text_dataset_from_directory(\n",
        "    'data/valid/',\n",
        "    batch_size=batch_size,\n",
        "    class_names=classes)"
      ],
      "execution_count": 16,
      "outputs": [
        {
          "output_type": "stream",
          "text": [
            "Found 90000 files belonging to 2 classes.\n"
          ],
          "name": "stdout"
        }
      ]
    },
    {
      "cell_type": "code",
      "metadata": {
        "id": "sV52fZLx6VTL"
      },
      "source": [
        "vectorize_layer = TextVectorization(output_mode='int')\n",
        "\n",
        "train_text = raw_train_ds.map(lambda x, y: x)\n",
        "vectorize_layer.adapt(train_text)\n",
        "vectorize_layer.set_vocabulary(vocab=np.asarray(['a', 'c', 't', 'g', 'n']))"
      ],
      "execution_count": 17,
      "outputs": []
    },
    {
      "cell_type": "code",
      "metadata": {
        "id": "qv6Z2FtB6XV1"
      },
      "source": [
        "def vectorize_text(text, label):\n",
        "  text = tf.expand_dims(text, -1)\n",
        "  return vectorize_layer(text)-2, label\n",
        "\n",
        "train_ds = raw_train_ds.map(vectorize_text)\n",
        "valid_ds = raw_valid_ds.map(vectorize_text)"
      ],
      "execution_count": 22,
      "outputs": []
    },
    {
      "cell_type": "code",
      "metadata": {
        "id": "VxSrq7vZR5T-"
      },
      "source": [
        "from keras import backend as K\n",
        "\n",
        "def recall_m(y_true, y_pred):\n",
        "    true_positives = K.sum(K.round(K.clip(y_true * y_pred, 0, 1)))\n",
        "    possible_positives = K.sum(K.round(K.clip(y_true, 0, 1)))\n",
        "    recall = true_positives / (possible_positives + K.epsilon())\n",
        "    return recall\n",
        "\n",
        "def precision_m(y_true, y_pred):\n",
        "    true_positives = K.sum(K.round(K.clip(y_true * y_pred, 0, 1)))\n",
        "    predicted_positives = K.sum(K.round(K.clip(y_pred, 0, 1)))\n",
        "    precision = true_positives / (predicted_positives + K.epsilon())\n",
        "    return precision\n",
        "\n",
        "def f1_m(y_true, y_pred):\n",
        "    precision = precision_m(y_true, y_pred)\n",
        "    recall = recall_m(y_true, y_pred)\n",
        "    return 2*((precision*recall)/(precision+recall+K.epsilon()))"
      ],
      "execution_count": 27,
      "outputs": []
    },
    {
      "cell_type": "markdown",
      "metadata": {
        "id": "z0R7M5st6ZKb"
      },
      "source": [
        "#Model training"
      ]
    },
    {
      "cell_type": "code",
      "metadata": {
        "id": "9QLrfcp36c7L"
      },
      "source": [
        "# one-hot encoding\n",
        "onehot_layer = keras.layers.Lambda(lambda x: tf.one_hot(tf.cast(x,'int64'), 4))"
      ],
      "execution_count": 23,
      "outputs": []
    },
    {
      "cell_type": "code",
      "metadata": {
        "id": "z3ax4Is76htb"
      },
      "source": [
        "# model one hot encoded\n",
        "model_cnn_lstm = tf.keras.Sequential([\n",
        "    onehot_layer,\n",
        "    keras.layers.Conv1D(32, kernel_size=6, data_format='channels_last', activation='relu'),\n",
        "    keras.layers.BatchNormalization(),\n",
        "    keras.layers.MaxPooling1D(),\n",
        "    keras.layers.Conv1D(16, kernel_size=6, data_format='channels_last', activation='relu'),\n",
        "    keras.layers.BatchNormalization(),\n",
        "    keras.layers.MaxPooling1D(),\n",
        "    keras.layers.Conv1D(4, kernel_size=6, data_format='channels_last', activation='relu'),\n",
        "    keras.layers.BatchNormalization(),\n",
        "    keras.layers.MaxPooling1D(),\n",
        "    keras.layers.Dropout(0.3),\n",
        "    keras.layers.LSTM(128, return_sequences=True),\n",
        "    keras.layers.LSTM(128, return_sequences=False),\n",
        "    keras.layers.Dense(1, activation=\"sigmoid\")\n",
        "])\n",
        "model_cnn_lstm.compile(loss='binary_crossentropy', optimizer='adam', metrics=['accuracy'])\n",
        "\n",
        "\n",
        "\n"
      ],
      "execution_count": 24,
      "outputs": []
    },
    {
      "cell_type": "code",
      "metadata": {
        "id": "fJmjcljpSEHj"
      },
      "source": [
        "import matplotlib.pyplot as plt\n",
        "def plot_accuracy(history):\n",
        "  plt.plot(history.history['accuracy'], label='accuracy')\n",
        "  plt.plot(history.history['val_accuracy'], label='val_accuracy')\n",
        "  plt.ylim([0.9, 1])\n",
        "  plt.xlabel('Epoch')\n",
        "  plt.ylabel('Error')\n",
        "  plt.legend()\n",
        "  plt.grid(True)"
      ],
      "execution_count": 25,
      "outputs": []
    },
    {
      "cell_type": "code",
      "metadata": {
        "id": "3A5k7pZ56xcJ",
        "colab": {
          "base_uri": "https://localhost:8080/"
        },
        "outputId": "471de17c-b8d5-4037-f217-d78a2bd69e3d"
      },
      "source": [
        "epochs = 10\n",
        "history = model_cnn_lstm.fit(\n",
        "    train_ds,\n",
        "    epochs=epochs,\n",
        "    validation_data = valid_ds)"
      ],
      "execution_count": 26,
      "outputs": [
        {
          "output_type": "stream",
          "text": [
            "Epoch 1/10\n",
            "411/411 [==============================] - 102s 248ms/step - loss: 0.1378 - accuracy: 0.9467 - val_loss: 0.1968 - val_accuracy: 0.9194\n",
            "Epoch 2/10\n",
            "411/411 [==============================] - 98s 239ms/step - loss: 0.1000 - accuracy: 0.9630 - val_loss: 0.0983 - val_accuracy: 0.9636\n",
            "Epoch 3/10\n",
            "411/411 [==============================] - 95s 231ms/step - loss: 0.0924 - accuracy: 0.9657 - val_loss: 0.0949 - val_accuracy: 0.9653\n",
            "Epoch 4/10\n",
            "411/411 [==============================] - 95s 231ms/step - loss: 0.0866 - accuracy: 0.9675 - val_loss: 0.0902 - val_accuracy: 0.9667\n",
            "Epoch 5/10\n",
            "411/411 [==============================] - 98s 238ms/step - loss: 0.0834 - accuracy: 0.9687 - val_loss: 0.1026 - val_accuracy: 0.9618\n",
            "Epoch 6/10\n",
            "411/411 [==============================] - 99s 240ms/step - loss: 0.0812 - accuracy: 0.9699 - val_loss: 0.0985 - val_accuracy: 0.9625\n",
            "Epoch 7/10\n",
            "411/411 [==============================] - 95s 231ms/step - loss: 0.0789 - accuracy: 0.9704 - val_loss: 0.0918 - val_accuracy: 0.9651\n",
            "Epoch 8/10\n",
            "411/411 [==============================] - 92s 224ms/step - loss: 0.0773 - accuracy: 0.9710 - val_loss: 0.0941 - val_accuracy: 0.9632\n",
            "Epoch 9/10\n",
            "411/411 [==============================] - 91s 221ms/step - loss: 0.0756 - accuracy: 0.9717 - val_loss: 0.1057 - val_accuracy: 0.9572\n",
            "Epoch 10/10\n",
            "411/411 [==============================] - 89s 216ms/step - loss: 0.0743 - accuracy: 0.9723 - val_loss: 0.0995 - val_accuracy: 0.9608\n"
          ],
          "name": "stdout"
        }
      ]
    },
    {
      "cell_type": "code",
      "metadata": {
        "id": "1vrxf-akX4g1",
        "colab": {
          "base_uri": "https://localhost:8080/",
          "height": 283
        },
        "outputId": "ce986c04-90bc-4f03-dfbf-db01c4780bb5"
      },
      "source": [
        "plot_accuracy(history)"
      ],
      "execution_count": 28,
      "outputs": [
        {
          "output_type": "display_data",
          "data": {
            "image/png": "[encoded data removed]",
            "text/plain": [
              "<Figure size 432x288 with 1 Axes>"
            ]
          },
          "metadata": {
            "tags": [],
            "needs_background": "light"
          }
        }
      ]
    },
    {
      "cell_type": "code",
      "metadata": {
        "id": "Mz1b_Yr2Qm7o"
      },
      "source": [
        ""
      ],
      "execution_count": null,
      "outputs": []
    },
    {
      "cell_type": "code",
      "metadata": {
        "id": "OpvKq-URQnFT"
      },
      "source": [
        "# model one hot encoded\n",
        "model_cnn_lstm1 = tf.keras.Sequential([\n",
        "    keras.layers.Embedding(5, 32, input_length=200),\n",
        "    keras.layers.Conv1D(32, kernel_size=6, data_format='channels_last', activation='relu'),\n",
        "    keras.layers.BatchNormalization(),\n",
        "    keras.layers.MaxPooling1D(),\n",
        "    keras.layers.Conv1D(16, kernel_size=6, data_format='channels_last', activation='relu'),\n",
        "    keras.layers.BatchNormalization(),\n",
        "    keras.layers.MaxPooling1D(),\n",
        "    keras.layers.Conv1D(4, kernel_size=6, data_format='channels_last', activation='relu'),\n",
        "    keras.layers.BatchNormalization(),\n",
        "    keras.layers.MaxPooling1D(),\n",
        "    keras.layers.Dropout(0.3),\n",
        "    keras.layers.LSTM(128, return_sequences=True),\n",
        "    keras.layers.Dropout(0.3),\n",
        "    keras.layers.LSTM(128, return_sequences=False),\n",
        "    keras.layers.Dense(1, activation=\"sigmoid\")\n",
        "])\n",
        "model_cnn_lstm1.compile(loss='binary_crossentropy', optimizer='adam', metrics=['accuracy', f1_m])\n",
        "\n",
        "\n",
        "\n"
      ],
      "execution_count": 29,
      "outputs": []
    },
    {
      "cell_type": "code",
      "metadata": {
        "colab": {
          "base_uri": "https://localhost:8080/"
        },
        "id": "VJ3ZcM3wQnFT",
        "outputId": "f647500d-982b-4345-9fba-8c56e99816f9"
      },
      "source": [
        "epochs = 10\n",
        "history = model_cnn_lstm1.fit(\n",
        "    train_ds,\n",
        "    epochs=epochs,\n",
        "    validation_data = valid_ds)"
      ],
      "execution_count": 30,
      "outputs": [
        {
          "output_type": "stream",
          "text": [
            "Epoch 1/10\n",
            "411/411 [==============================] - 93s 226ms/step - loss: 0.1219 - accuracy: 0.9543 - f1_m: 0.9541 - val_loss: 0.5500 - val_accuracy: 0.6741 - val_f1_m: 0.7526\n",
            "Epoch 2/10\n",
            "411/411 [==============================] - 83s 203ms/step - loss: 0.0954 - accuracy: 0.9645 - f1_m: 0.9645 - val_loss: 0.0992 - val_accuracy: 0.9627 - val_f1_m: 0.9624\n",
            "Epoch 3/10\n",
            "411/411 [==============================] - 89s 217ms/step - loss: 0.0885 - accuracy: 0.9666 - f1_m: 0.9666 - val_loss: 0.0961 - val_accuracy: 0.9648 - val_f1_m: 0.9642\n",
            "Epoch 4/10\n",
            "411/411 [==============================] - 88s 214ms/step - loss: 0.0845 - accuracy: 0.9687 - f1_m: 0.9686 - val_loss: 0.0923 - val_accuracy: 0.9663 - val_f1_m: 0.9656\n",
            "Epoch 5/10\n",
            "411/411 [==============================] - 81s 198ms/step - loss: 0.0809 - accuracy: 0.9698 - f1_m: 0.9697 - val_loss: 0.0787 - val_accuracy: 0.9708 - val_f1_m: 0.9707\n",
            "Epoch 6/10\n",
            "411/411 [==============================] - 83s 202ms/step - loss: 0.0788 - accuracy: 0.9704 - f1_m: 0.9703 - val_loss: 0.1014 - val_accuracy: 0.9613 - val_f1_m: 0.9602\n",
            "Epoch 7/10\n",
            "411/411 [==============================] - 90s 219ms/step - loss: 0.0767 - accuracy: 0.9713 - f1_m: 0.9713 - val_loss: 0.0895 - val_accuracy: 0.9663 - val_f1_m: 0.9666\n",
            "Epoch 8/10\n",
            "411/411 [==============================] - 90s 219ms/step - loss: 0.0757 - accuracy: 0.9715 - f1_m: 0.9714 - val_loss: 0.0847 - val_accuracy: 0.9679 - val_f1_m: 0.9674\n",
            "Epoch 9/10\n",
            "411/411 [==============================] - 90s 219ms/step - loss: 0.0742 - accuracy: 0.9723 - f1_m: 0.9723 - val_loss: 0.0866 - val_accuracy: 0.9673 - val_f1_m: 0.9667\n",
            "Epoch 10/10\n",
            "411/411 [==============================] - 85s 207ms/step - loss: 0.0732 - accuracy: 0.9726 - f1_m: 0.9725 - val_loss: 0.0789 - val_accuracy: 0.9701 - val_f1_m: 0.9701\n"
          ],
          "name": "stdout"
        }
      ]
    },
    {
      "cell_type": "code",
      "metadata": {
        "colab": {
          "base_uri": "https://localhost:8080/",
          "height": 283
        },
        "id": "bPL0-9aGQnFU",
        "outputId": "0b6f4766-dd9f-4c48-9950-299f9a29294d"
      },
      "source": [
        "plot_accuracy(history)"
      ],
      "execution_count": 31,
      "outputs": [
        {
          "output_type": "display_data",
          "data": {
            "image/png": "[encoded data removed]",
            "text/plain": [
              "<Figure size 432x288 with 1 Axes>"
            ]
          },
          "metadata": {
            "tags": [],
            "needs_background": "light"
          }
        }
      ]
    },
    {
      "cell_type": "code",
      "metadata": {
        "id": "qKLeybHWVj6m"
      },
      "source": [
        ""
      ],
      "execution_count": null,
      "outputs": []
    }
  ]
}