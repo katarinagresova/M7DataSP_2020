{
  "nbformat": 4,
  "nbformat_minor": 0,
  "metadata": {
    "colab": {
      "name": "G-quadruplexes_classification.ipynb",
      "provenance": [],
      "toc_visible": true,
      "authorship_tag": "ABX9TyNU+GuFoOBiv3jUdHWKZGHK",
      "include_colab_link": true
    },
    "kernelspec": {
      "name": "python3",
      "display_name": "Python 3"
    },
    "accelerator": "GPU"
  },
  "cells": [
    {
      "cell_type": "markdown",
      "metadata": {
        "id": "view-in-github",
        "colab_type": "text"
      },
      "source": [
        "<a href=\"https://colab.research.google.com/github/katarinagresova/M7DataSP_2020/blob/main/assignment_08/G_quadruplexes_classification.ipynb\" target=\"_parent\"><img src=\"https://colab.research.google.com/assets/colab-badge.svg\" alt=\"Open In Colab\"/></a>"
      ]
    },
    {
      "cell_type": "markdown",
      "metadata": {
        "id": "q291sOCP1rwt"
      },
      "source": [
        "This notebook was created for classification of G-quadruplexes, which was part of [assignment 08](https://github.com/simecek/dspracticum2020/tree/master/lecture_08/assignment) in subject [Data Science Practicum 2020](https://github.com/simecek/dspracticum2020). Most of the code was taken from [G4_benchmark notebook](https://github.com/simecek/dspracticum2020/blob/master/lecture_08/assignment/g4/G4_benchmark.ipynb).\n",
        "\n",
        "Several architectures were tried, but the best results were from model created by concatenating cnn model and lstm model."
      ]
    },
    {
      "cell_type": "markdown",
      "metadata": {
        "id": "gQ8os0p0Owbz"
      },
      "source": [
        "#Setup"
      ]
    },
    {
      "cell_type": "code",
      "metadata": {
        "colab": {
          "base_uri": "https://localhost:8080/"
        },
        "id": "N9qPDH2QOtfj",
        "outputId": "b5e00e6d-20a9-4381-fcba-637453cce29e"
      },
      "source": [
        "!pip install biopython"
      ],
      "execution_count": 1,
      "outputs": [
        {
          "output_type": "stream",
          "text": [
            "Collecting biopython\n",
            "\u001b[?25l  Downloading https://files.pythonhosted.org/packages/76/02/8b606c4aa92ff61b5eda71d23b499ab1de57d5e818be33f77b01a6f435a8/biopython-1.78-cp36-cp36m-manylinux1_x86_64.whl (2.3MB)\n",
            "\u001b[K     |████████████████████████████████| 2.3MB 12.5MB/s \n",
            "\u001b[?25hRequirement already satisfied: numpy in /usr/local/lib/python3.6/dist-packages (from biopython) (1.18.5)\n",
            "Installing collected packages: biopython\n",
            "Successfully installed biopython-1.78\n"
          ],
          "name": "stdout"
        }
      ]
    },
    {
      "cell_type": "code",
      "metadata": {
        "id": "yIxCKRHF5D8-"
      },
      "source": [
        "import urllib.request\n",
        "from pathlib import Path\n",
        "from Bio import SeqIO\n",
        "import numpy as np\n",
        "import gzip\n",
        "\n",
        "import tensorflow as tf\n",
        "from tensorflow import keras\n",
        "from tensorflow.keras.layers.experimental.preprocessing import TextVectorization"
      ],
      "execution_count": 2,
      "outputs": []
    },
    {
      "cell_type": "markdown",
      "metadata": {
        "id": "FC2ipgfn5SVd"
      },
      "source": [
        "#Reshaping data from fasta to txt\n"
      ]
    },
    {
      "cell_type": "code",
      "metadata": {
        "id": "p6lYb5hz5ThF"
      },
      "source": [
        "classes = ['notpresent', 'present']\n",
        "sets = ['train', 'valid']\n",
        "\n",
        "for c in classes:\n",
        "    for s in sets:\n",
        "        urllib.request.urlretrieve(f\"https://github.com/simecek/dspracticum2020/raw/master/lecture_08/assignment/g4/g4_{c}_{s}.fa.gz\", f\"g4_{c}_{s}.fa.gz\")"
      ],
      "execution_count": 3,
      "outputs": []
    },
    {
      "cell_type": "code",
      "metadata": {
        "id": "3jUmyS3F5YXE"
      },
      "source": [
        "for c in classes:\n",
        "    for s in sets:\n",
        "        Path(f\"data/{s}/{c}\").mkdir(parents=True, exist_ok=True)"
      ],
      "execution_count": 4,
      "outputs": []
    },
    {
      "cell_type": "code",
      "metadata": {
        "colab": {
          "base_uri": "https://localhost:8080/"
        },
        "id": "eQ5IP2n_5aV1",
        "outputId": "dc4fe664-9f37-4bf2-d720-7a9b7e071588"
      },
      "source": [
        "counter = {}\n",
        "for c in classes:\n",
        "    counter[c] = 0\n",
        "    for s in sets:\n",
        "        with gzip.open(f\"g4_{c}_{s}.fa.gz\", \"rt\") as handle:\n",
        "            for record in SeqIO.parse(handle, \"fasta\"):\n",
        "                counter[c] += 1\n",
        "                id = record.id\n",
        "                with open(f\"data/{s}/{c}/{id}.txt\", \"w\") as fw:\n",
        "                    fw.writelines([\" \".join(str(record.seq))])\n",
        "\n",
        "for s in counter:\n",
        "  print(f\"Found {counter[s]} records of class {s}\")"
      ],
      "execution_count": 6,
      "outputs": [
        {
          "output_type": "stream",
          "text": [
            "Found 150000 records of class notpresent\n",
            "Found 150000 records of class present\n"
          ],
          "name": "stdout"
        }
      ]
    },
    {
      "cell_type": "markdown",
      "metadata": {
        "id": "IgHe6ziGmrER"
      },
      "source": [
        "So we are working with balanced dataset."
      ]
    },
    {
      "cell_type": "markdown",
      "metadata": {
        "id": "KISa3GWF6KEh"
      },
      "source": [
        "#Reading data"
      ]
    },
    {
      "cell_type": "code",
      "metadata": {
        "colab": {
          "base_uri": "https://localhost:8080/"
        },
        "id": "FuOJLPsx6Jzn",
        "outputId": "ec9bc78e-7ae8-4eda-b764-a242349f561f"
      },
      "source": [
        "batch_size = 256\n",
        "\n",
        "raw_train_ds = tf.keras.preprocessing.text_dataset_from_directory(\n",
        "    'data/train/',\n",
        "    batch_size=batch_size,\n",
        "    class_names=classes)"
      ],
      "execution_count": 7,
      "outputs": [
        {
          "output_type": "stream",
          "text": [
            "Found 210000 files belonging to 2 classes.\n"
          ],
          "name": "stdout"
        }
      ]
    },
    {
      "cell_type": "code",
      "metadata": {
        "colab": {
          "base_uri": "https://localhost:8080/"
        },
        "id": "fUq-WOpp6Qgk",
        "outputId": "8a1fd25e-354a-40ce-f3f8-04f5a458b70f"
      },
      "source": [
        "raw_valid_ds = tf.keras.preprocessing.text_dataset_from_directory(\n",
        "    'data/valid/',\n",
        "    batch_size=batch_size,\n",
        "    class_names=classes)"
      ],
      "execution_count": 8,
      "outputs": [
        {
          "output_type": "stream",
          "text": [
            "Found 90000 files belonging to 2 classes.\n"
          ],
          "name": "stdout"
        }
      ]
    },
    {
      "cell_type": "code",
      "metadata": {
        "id": "sV52fZLx6VTL"
      },
      "source": [
        "vectorize_layer = TextVectorization(output_mode='int')\n",
        "\n",
        "train_text = raw_train_ds.map(lambda x, y: x)\n",
        "vectorize_layer.adapt(train_text)\n",
        "vectorize_layer.set_vocabulary(vocab=np.asarray(['a', 'c', 't', 'g', 'n']))"
      ],
      "execution_count": 9,
      "outputs": []
    },
    {
      "cell_type": "code",
      "metadata": {
        "id": "qv6Z2FtB6XV1"
      },
      "source": [
        "def vectorize_text(text, label):\n",
        "  text = tf.expand_dims(text, -1)\n",
        "  return vectorize_layer(text)-2, label\n",
        "\n",
        "train_ds = raw_train_ds.map(vectorize_text)\n",
        "valid_ds = raw_valid_ds.map(vectorize_text)"
      ],
      "execution_count": 10,
      "outputs": []
    },
    {
      "cell_type": "markdown",
      "metadata": {
        "id": "z0R7M5st6ZKb"
      },
      "source": [
        "#Model training"
      ]
    },
    {
      "cell_type": "code",
      "metadata": {
        "id": "9QLrfcp36c7L"
      },
      "source": [
        "# one-hot encoding\n",
        "onehot_layer = keras.layers.Lambda(lambda x: tf.one_hot(tf.cast(x,'int64'), 4))"
      ],
      "execution_count": 11,
      "outputs": []
    },
    {
      "cell_type": "code",
      "metadata": {
        "id": "z3ax4Is76htb"
      },
      "source": [
        "model_cnn_lstm = tf.keras.Sequential([\n",
        "    onehot_layer,\n",
        "    keras.layers.Conv1D(32, kernel_size=8, data_format='channels_last', activation='relu'),\n",
        "    keras.layers.BatchNormalization(),\n",
        "    keras.layers.MaxPooling1D(),\n",
        "    keras.layers.Dropout(0.3),\n",
        "    keras.layers.Conv1D(16, kernel_size=8, data_format='channels_last', activation='relu'),\n",
        "    keras.layers.BatchNormalization(),\n",
        "    keras.layers.MaxPooling1D(),\n",
        "    keras.layers.Dropout(0.3),\n",
        "    keras.layers.Conv1D(8, kernel_size=8, data_format='channels_last', activation='relu'),\n",
        "    keras.layers.BatchNormalization(),\n",
        "    keras.layers.MaxPooling1D(),\n",
        "    keras.layers.Dropout(0.3),\n",
        "    keras.layers.LSTM(128, return_sequences=True),\n",
        "    keras.layers.LSTM(128, return_sequences=False),\n",
        "    keras.layers.Dense(1, activation=\"sigmoid\")\n",
        "])\n",
        "\n",
        "model_cnn_lstm.compile(loss='binary_crossentropy', optimizer='adam', metrics=['accuracy'])"
      ],
      "execution_count": 54,
      "outputs": []
    },
    {
      "cell_type": "code",
      "metadata": {
        "id": "fJmjcljpSEHj"
      },
      "source": [
        "import matplotlib.pyplot as plt\n",
        "def plot_accuracy(history):\n",
        "  plt.plot(history.history['accuracy'], label='accuracy')\n",
        "  plt.plot(history.history['val_accuracy'], label='val_accuracy')\n",
        "  plt.ylim([0.9, 1])\n",
        "  plt.xlabel('Epoch')\n",
        "  plt.ylabel('Error')\n",
        "  plt.legend()\n",
        "  plt.grid(True)"
      ],
      "execution_count": 55,
      "outputs": []
    },
    {
      "cell_type": "code",
      "metadata": {
        "colab": {
          "base_uri": "https://localhost:8080/"
        },
        "id": "3A5k7pZ56xcJ",
        "outputId": "d48a5de5-bfb5-4a2b-d7c1-e5cbd7cb83c9"
      },
      "source": [
        "epochs = 10\n",
        "history = model_cnn_lstm.fit(\n",
        "    train_ds,\n",
        "    epochs=epochs,\n",
        "    validation_data = valid_ds)"
      ],
      "execution_count": null,
      "outputs": [
        {
          "output_type": "stream",
          "text": [
            "Epoch 1/10\n",
            "821/821 [==============================] - 85s 103ms/step - loss: 0.1300 - accuracy: 0.9511 - val_loss: 0.1030 - val_accuracy: 0.9597\n",
            "Epoch 2/10\n",
            "821/821 [==============================] - 86s 105ms/step - loss: 0.1001 - accuracy: 0.9629 - val_loss: 0.1099 - val_accuracy: 0.9585\n",
            "Epoch 3/10\n",
            "821/821 [==============================] - 82s 100ms/step - loss: 0.0940 - accuracy: 0.9651 - val_loss: 0.0872 - val_accuracy: 0.9660\n",
            "Epoch 4/10\n",
            "821/821 [==============================] - 91s 110ms/step - loss: 0.0902 - accuracy: 0.9664 - val_loss: 0.0909 - val_accuracy: 0.9643\n",
            "Epoch 5/10\n",
            "191/821 [=====>........................] - ETA: 51s - loss: 0.0893 - accuracy: 0.9661"
          ],
          "name": "stdout"
        }
      ]
    },
    {
      "cell_type": "code",
      "metadata": {
        "colab": {
          "base_uri": "https://localhost:8080/",
          "height": 283
        },
        "id": "1vrxf-akX4g1",
        "outputId": "7bc33038-bc42-48b0-8820-758769638729"
      },
      "source": [
        "plot_accuracy(history)"
      ],
      "execution_count": 23,
      "outputs": [
        {
          "output_type": "display_data",
          "data": {
            "image/png": "[encoded data removed]",
            "text/plain": [
              "<Figure size 432x288 with 1 Axes>"
            ]
          },
          "metadata": {
            "tags": [],
            "needs_background": "light"
          }
        }
      ]
    }
  ]
}