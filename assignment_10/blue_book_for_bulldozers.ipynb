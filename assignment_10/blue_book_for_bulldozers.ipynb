{
 "cells": [
  {
   "cell_type": "markdown",
   "metadata": {
    "colab_type": "text",
    "id": "view-in-github"
   },
   "source": [
    "<a href=\"https://colab.research.google.com/github/katarinagresova/M7DataSP_2020/blob/dokoncenie/assignment_10/blue_book_for_bulldozers.ipynb\" target=\"_parent\"><img src=\"https://colab.research.google.com/assets/colab-badge.svg\" alt=\"Open In Colab\"/></a>"
   ]
  },
  {
   "cell_type": "markdown",
   "metadata": {
    "id": "Lc1uBhFkXbFW"
   },
   "source": [
    "This notebook is working with data from kaggle [Blue Book for Bulldozers](https://www.kaggle.com/c/bluebook-for-bulldozers) competition. Goal is to predict the auction sale price for a piece of heavy equipment to create a \"blue book\" for bulldozers. To use the final model, feel free to download it [here](https://drive.google.com/file/d/1SvEqWfhQ3SmdyYJPC35BLrMHtmK-3i4J/view?usp=sharing). (You may need to open the link using your Muni acc)"
   ]
  },
  {
   "cell_type": "markdown",
   "metadata": {
    "id": "eXG4Q7JGX3Xp"
   },
   "source": [
    "# Setup"
   ]
  },
  {
   "cell_type": "code",
   "execution_count": 1,
   "metadata": {
    "id": "cLTGZ0e8XUxz"
   },
   "outputs": [],
   "source": [
    "import numpy as np \n",
    "import pandas as pd \n",
    "import seaborn as sns\n",
    "import matplotlib.pyplot as plt\n",
    "from sklearn.model_selection import train_test_split, GridSearchCV\n",
    "from sklearn.pipeline import Pipeline\n",
    "from sklearn.impute import KNNImputer, SimpleImputer\n",
    "from sklearn.compose import ColumnTransformer, make_column_selector\n",
    "from sklearn.preprocessing import OneHotEncoder, StandardScaler\n",
    "from sklearn.tree import DecisionTreeRegressor, DecisionTreeClassifier\n",
    "from sklearn.ensemble import RandomForestRegressor\n",
    "from sklearn.metrics import f1_score, precision_score, recall_score, mean_squared_error, r2_score\n"
   ]
  },
  {
   "cell_type": "code",
   "execution_count": 1,
   "metadata": {
    "colab": {
     "base_uri": "https://localhost:8080/"
    },
    "id": "uCPCn51Tezgy",
    "outputId": "1c53925f-9930-4f26-9e17-037846d66372"
   },
   "outputs": [],
   "source": [
    "#from google.colab import drive\n",
    "#drive.mount('/content/drive')"
   ]
  },
  {
   "cell_type": "markdown",
   "metadata": {
    "id": "8xZDP3QbX6mt"
   },
   "source": [
    "# Data load"
   ]
  },
  {
   "cell_type": "code",
   "execution_count": 3,
   "metadata": {},
   "outputs": [],
   "source": [
    "df = pd.read_csv(\"/notebooky/Data/TrainAndValid.csv\", parse_dates=['saledate'], low_memory = False)"
   ]
  },
  {
   "cell_type": "code",
   "execution_count": 5,
   "metadata": {
    "id": "e-UkP8IUXUx1"
   },
   "outputs": [],
   "source": [
    "df = pd.read_csv(\"F:\\Data\\TrainAndValid.csv\", parse_dates=['saledate'], low_memory = False) "
   ]
  },
  {
   "cell_type": "markdown",
   "metadata": {
    "id": "48RBkj0fewc2"
   },
   "source": [
    "## From Google Drive"
   ]
  },
  {
   "cell_type": "code",
   "execution_count": 1,
   "metadata": {
    "id": "07HZxEcDe4RY"
   },
   "outputs": [],
   "source": [
    "df = pd.read_csv('/content/drive/MyDrive/M7DataSP/blue_book_for_bulldozers/TrainAndValid.csv', parse_dates=['saledate'], low_memory = False) "
   ]
  },
  {
   "cell_type": "code",
   "execution_count": 4,
   "metadata": {
    "id": "YsV0NnCjXUx1",
    "outputId": "81c6e3c5-bc73-4b66-db24-c7d4234c5250"
   },
   "outputs": [
    {
     "data": {
      "text/html": [
       "<div>\n",
       "<style scoped>\n",
       "    .dataframe tbody tr th:only-of-type {\n",
       "        vertical-align: middle;\n",
       "    }\n",
       "\n",
       "    .dataframe tbody tr th {\n",
       "        vertical-align: top;\n",
       "    }\n",
       "\n",
       "    .dataframe thead th {\n",
       "        text-align: right;\n",
       "    }\n",
       "</style>\n",
       "<table border=\"1\" class=\"dataframe\">\n",
       "  <thead>\n",
       "    <tr style=\"text-align: right;\">\n",
       "      <th></th>\n",
       "      <th>SalesID</th>\n",
       "      <th>SalePrice</th>\n",
       "      <th>MachineID</th>\n",
       "      <th>ModelID</th>\n",
       "      <th>datasource</th>\n",
       "      <th>auctioneerID</th>\n",
       "      <th>YearMade</th>\n",
       "      <th>MachineHoursCurrentMeter</th>\n",
       "      <th>UsageBand</th>\n",
       "      <th>saledate</th>\n",
       "      <th>...</th>\n",
       "      <th>Undercarriage_Pad_Width</th>\n",
       "      <th>Stick_Length</th>\n",
       "      <th>Thumb</th>\n",
       "      <th>Pattern_Changer</th>\n",
       "      <th>Grouser_Type</th>\n",
       "      <th>Backhoe_Mounting</th>\n",
       "      <th>Blade_Type</th>\n",
       "      <th>Travel_Controls</th>\n",
       "      <th>Differential_Type</th>\n",
       "      <th>Steering_Controls</th>\n",
       "    </tr>\n",
       "  </thead>\n",
       "  <tbody>\n",
       "    <tr>\n",
       "      <th>0</th>\n",
       "      <td>1139246</td>\n",
       "      <td>66000.0</td>\n",
       "      <td>999089</td>\n",
       "      <td>3157</td>\n",
       "      <td>121</td>\n",
       "      <td>3.0</td>\n",
       "      <td>2004</td>\n",
       "      <td>68.0</td>\n",
       "      <td>Low</td>\n",
       "      <td>2006-11-16</td>\n",
       "      <td>...</td>\n",
       "      <td>NaN</td>\n",
       "      <td>NaN</td>\n",
       "      <td>NaN</td>\n",
       "      <td>NaN</td>\n",
       "      <td>NaN</td>\n",
       "      <td>NaN</td>\n",
       "      <td>NaN</td>\n",
       "      <td>NaN</td>\n",
       "      <td>Standard</td>\n",
       "      <td>Conventional</td>\n",
       "    </tr>\n",
       "    <tr>\n",
       "      <th>1</th>\n",
       "      <td>1139248</td>\n",
       "      <td>57000.0</td>\n",
       "      <td>117657</td>\n",
       "      <td>77</td>\n",
       "      <td>121</td>\n",
       "      <td>3.0</td>\n",
       "      <td>1996</td>\n",
       "      <td>4640.0</td>\n",
       "      <td>Low</td>\n",
       "      <td>2004-03-26</td>\n",
       "      <td>...</td>\n",
       "      <td>NaN</td>\n",
       "      <td>NaN</td>\n",
       "      <td>NaN</td>\n",
       "      <td>NaN</td>\n",
       "      <td>NaN</td>\n",
       "      <td>NaN</td>\n",
       "      <td>NaN</td>\n",
       "      <td>NaN</td>\n",
       "      <td>Standard</td>\n",
       "      <td>Conventional</td>\n",
       "    </tr>\n",
       "    <tr>\n",
       "      <th>2</th>\n",
       "      <td>1139249</td>\n",
       "      <td>10000.0</td>\n",
       "      <td>434808</td>\n",
       "      <td>7009</td>\n",
       "      <td>121</td>\n",
       "      <td>3.0</td>\n",
       "      <td>2001</td>\n",
       "      <td>2838.0</td>\n",
       "      <td>High</td>\n",
       "      <td>2004-02-26</td>\n",
       "      <td>...</td>\n",
       "      <td>NaN</td>\n",
       "      <td>NaN</td>\n",
       "      <td>NaN</td>\n",
       "      <td>NaN</td>\n",
       "      <td>NaN</td>\n",
       "      <td>NaN</td>\n",
       "      <td>NaN</td>\n",
       "      <td>NaN</td>\n",
       "      <td>NaN</td>\n",
       "      <td>NaN</td>\n",
       "    </tr>\n",
       "    <tr>\n",
       "      <th>3</th>\n",
       "      <td>1139251</td>\n",
       "      <td>38500.0</td>\n",
       "      <td>1026470</td>\n",
       "      <td>332</td>\n",
       "      <td>121</td>\n",
       "      <td>3.0</td>\n",
       "      <td>2001</td>\n",
       "      <td>3486.0</td>\n",
       "      <td>High</td>\n",
       "      <td>2011-05-19</td>\n",
       "      <td>...</td>\n",
       "      <td>NaN</td>\n",
       "      <td>NaN</td>\n",
       "      <td>NaN</td>\n",
       "      <td>NaN</td>\n",
       "      <td>NaN</td>\n",
       "      <td>NaN</td>\n",
       "      <td>NaN</td>\n",
       "      <td>NaN</td>\n",
       "      <td>NaN</td>\n",
       "      <td>NaN</td>\n",
       "    </tr>\n",
       "    <tr>\n",
       "      <th>4</th>\n",
       "      <td>1139253</td>\n",
       "      <td>11000.0</td>\n",
       "      <td>1057373</td>\n",
       "      <td>17311</td>\n",
       "      <td>121</td>\n",
       "      <td>3.0</td>\n",
       "      <td>2007</td>\n",
       "      <td>722.0</td>\n",
       "      <td>Medium</td>\n",
       "      <td>2009-07-23</td>\n",
       "      <td>...</td>\n",
       "      <td>NaN</td>\n",
       "      <td>NaN</td>\n",
       "      <td>NaN</td>\n",
       "      <td>NaN</td>\n",
       "      <td>NaN</td>\n",
       "      <td>NaN</td>\n",
       "      <td>NaN</td>\n",
       "      <td>NaN</td>\n",
       "      <td>NaN</td>\n",
       "      <td>NaN</td>\n",
       "    </tr>\n",
       "  </tbody>\n",
       "</table>\n",
       "<p>5 rows × 53 columns</p>\n",
       "</div>"
      ],
      "text/plain": [
       "   SalesID  SalePrice  MachineID  ModelID  datasource  auctioneerID  YearMade  \\\n",
       "0  1139246    66000.0     999089     3157         121           3.0      2004   \n",
       "1  1139248    57000.0     117657       77         121           3.0      1996   \n",
       "2  1139249    10000.0     434808     7009         121           3.0      2001   \n",
       "3  1139251    38500.0    1026470      332         121           3.0      2001   \n",
       "4  1139253    11000.0    1057373    17311         121           3.0      2007   \n",
       "\n",
       "   MachineHoursCurrentMeter UsageBand   saledate  ... Undercarriage_Pad_Width  \\\n",
       "0                      68.0       Low 2006-11-16  ...                     NaN   \n",
       "1                    4640.0       Low 2004-03-26  ...                     NaN   \n",
       "2                    2838.0      High 2004-02-26  ...                     NaN   \n",
       "3                    3486.0      High 2011-05-19  ...                     NaN   \n",
       "4                     722.0    Medium 2009-07-23  ...                     NaN   \n",
       "\n",
       "  Stick_Length Thumb Pattern_Changer Grouser_Type Backhoe_Mounting Blade_Type  \\\n",
       "0          NaN   NaN             NaN          NaN              NaN        NaN   \n",
       "1          NaN   NaN             NaN          NaN              NaN        NaN   \n",
       "2          NaN   NaN             NaN          NaN              NaN        NaN   \n",
       "3          NaN   NaN             NaN          NaN              NaN        NaN   \n",
       "4          NaN   NaN             NaN          NaN              NaN        NaN   \n",
       "\n",
       "  Travel_Controls Differential_Type Steering_Controls  \n",
       "0             NaN          Standard      Conventional  \n",
       "1             NaN          Standard      Conventional  \n",
       "2             NaN               NaN               NaN  \n",
       "3             NaN               NaN               NaN  \n",
       "4             NaN               NaN               NaN  \n",
       "\n",
       "[5 rows x 53 columns]"
      ]
     },
     "execution_count": 4,
     "metadata": {},
     "output_type": "execute_result"
    }
   ],
   "source": [
    "df.head()"
   ]
  },
  {
   "cell_type": "code",
   "execution_count": 5,
   "metadata": {
    "id": "XqKOixoQXUx2",
    "outputId": "322018c0-26b5-4cc4-a1a6-c358ab227ebf"
   },
   "outputs": [
    {
     "name": "stdout",
     "output_type": "stream",
     "text": [
      "<class 'pandas.core.frame.DataFrame'>\n",
      "RangeIndex: 412698 entries, 0 to 412697\n",
      "Data columns (total 53 columns):\n",
      " #   Column                    Non-Null Count   Dtype         \n",
      "---  ------                    --------------   -----         \n",
      " 0   SalesID                   412698 non-null  int64         \n",
      " 1   SalePrice                 412698 non-null  float64       \n",
      " 2   MachineID                 412698 non-null  int64         \n",
      " 3   ModelID                   412698 non-null  int64         \n",
      " 4   datasource                412698 non-null  int64         \n",
      " 5   auctioneerID              392562 non-null  float64       \n",
      " 6   YearMade                  412698 non-null  int64         \n",
      " 7   MachineHoursCurrentMeter  147504 non-null  float64       \n",
      " 8   UsageBand                 73670 non-null   object        \n",
      " 9   saledate                  412698 non-null  datetime64[ns]\n",
      " 10  fiModelDesc               412698 non-null  object        \n",
      " 11  fiBaseModel               412698 non-null  object        \n",
      " 12  fiSecondaryDesc           271971 non-null  object        \n",
      " 13  fiModelSeries             58667 non-null   object        \n",
      " 14  fiModelDescriptor         74816 non-null   object        \n",
      " 15  ProductSize               196093 non-null  object        \n",
      " 16  fiProductClassDesc        412698 non-null  object        \n",
      " 17  state                     412698 non-null  object        \n",
      " 18  ProductGroup              412698 non-null  object        \n",
      " 19  ProductGroupDesc          412698 non-null  object        \n",
      " 20  Drive_System              107087 non-null  object        \n",
      " 21  Enclosure                 412364 non-null  object        \n",
      " 22  Forks                     197715 non-null  object        \n",
      " 23  Pad_Type                  81096 non-null   object        \n",
      " 24  Ride_Control              152728 non-null  object        \n",
      " 25  Stick                     81096 non-null   object        \n",
      " 26  Transmission              188007 non-null  object        \n",
      " 27  Turbocharged              81096 non-null   object        \n",
      " 28  Blade_Extension           25983 non-null   object        \n",
      " 29  Blade_Width               25983 non-null   object        \n",
      " 30  Enclosure_Type            25983 non-null   object        \n",
      " 31  Engine_Horsepower         25983 non-null   object        \n",
      " 32  Hydraulics                330133 non-null  object        \n",
      " 33  Pushblock                 25983 non-null   object        \n",
      " 34  Ripper                    106945 non-null  object        \n",
      " 35  Scarifier                 25994 non-null   object        \n",
      " 36  Tip_Control               25983 non-null   object        \n",
      " 37  Tire_Size                 97638 non-null   object        \n",
      " 38  Coupler                   220679 non-null  object        \n",
      " 39  Coupler_System            44974 non-null   object        \n",
      " 40  Grouser_Tracks            44875 non-null   object        \n",
      " 41  Hydraulics_Flow           44875 non-null   object        \n",
      " 42  Track_Type                102193 non-null  object        \n",
      " 43  Undercarriage_Pad_Width   102916 non-null  object        \n",
      " 44  Stick_Length              102261 non-null  object        \n",
      " 45  Thumb                     102332 non-null  object        \n",
      " 46  Pattern_Changer           102261 non-null  object        \n",
      " 47  Grouser_Type              102193 non-null  object        \n",
      " 48  Backhoe_Mounting          80712 non-null   object        \n",
      " 49  Blade_Type                81875 non-null   object        \n",
      " 50  Travel_Controls           81877 non-null   object        \n",
      " 51  Differential_Type         71564 non-null   object        \n",
      " 52  Steering_Controls         71522 non-null   object        \n",
      "dtypes: datetime64[ns](1), float64(3), int64(5), object(44)\n",
      "memory usage: 166.9+ MB\n"
     ]
    }
   ],
   "source": [
    "df.info()"
   ]
  },
  {
   "cell_type": "markdown",
   "metadata": {
    "id": "slIH5KERYK8s"
   },
   "source": [
    "# Data preprocessing"
   ]
  },
  {
   "cell_type": "code",
   "execution_count": 6,
   "metadata": {
    "id": "PcQlp0mZXUx2"
   },
   "outputs": [],
   "source": [
    "# df['saledate'] = pd.to_datetime(df.saledate).values.astype(np.int64)//10 ** 9 # convert date to timestamp to obtain a new explanatory varialble , if parse_dates in the begging was not used, but we d be good only with the year of sale as integer value\n",
    "df.saledate = df.saledate.dt.year"
   ]
  },
  {
   "cell_type": "code",
   "execution_count": 7,
   "metadata": {
    "colab": {
     "base_uri": "https://localhost:8080/",
     "height": 360
    },
    "id": "DkisDE2fXUx3",
    "outputId": "8d573e74-4684-4fef-e9dc-462f5343a12e"
   },
   "outputs": [
    {
     "data": {
      "text/html": [
       "<div>\n",
       "<style scoped>\n",
       "    .dataframe tbody tr th:only-of-type {\n",
       "        vertical-align: middle;\n",
       "    }\n",
       "\n",
       "    .dataframe tbody tr th {\n",
       "        vertical-align: top;\n",
       "    }\n",
       "\n",
       "    .dataframe thead th {\n",
       "        text-align: right;\n",
       "    }\n",
       "</style>\n",
       "<table border=\"1\" class=\"dataframe\">\n",
       "  <thead>\n",
       "    <tr style=\"text-align: right;\">\n",
       "      <th></th>\n",
       "      <th>SalesID</th>\n",
       "      <th>SalePrice</th>\n",
       "      <th>MachineID</th>\n",
       "      <th>ModelID</th>\n",
       "      <th>datasource</th>\n",
       "      <th>auctioneerID</th>\n",
       "      <th>YearMade</th>\n",
       "      <th>MachineHoursCurrentMeter</th>\n",
       "      <th>UsageBand</th>\n",
       "      <th>saledate</th>\n",
       "      <th>...</th>\n",
       "      <th>Undercarriage_Pad_Width</th>\n",
       "      <th>Stick_Length</th>\n",
       "      <th>Thumb</th>\n",
       "      <th>Pattern_Changer</th>\n",
       "      <th>Grouser_Type</th>\n",
       "      <th>Backhoe_Mounting</th>\n",
       "      <th>Blade_Type</th>\n",
       "      <th>Travel_Controls</th>\n",
       "      <th>Differential_Type</th>\n",
       "      <th>Steering_Controls</th>\n",
       "    </tr>\n",
       "  </thead>\n",
       "  <tbody>\n",
       "    <tr>\n",
       "      <th>0</th>\n",
       "      <td>1139246</td>\n",
       "      <td>66000.0</td>\n",
       "      <td>999089</td>\n",
       "      <td>3157</td>\n",
       "      <td>121</td>\n",
       "      <td>3.0</td>\n",
       "      <td>2004</td>\n",
       "      <td>68.0</td>\n",
       "      <td>Low</td>\n",
       "      <td>2006</td>\n",
       "      <td>...</td>\n",
       "      <td>NaN</td>\n",
       "      <td>NaN</td>\n",
       "      <td>NaN</td>\n",
       "      <td>NaN</td>\n",
       "      <td>NaN</td>\n",
       "      <td>NaN</td>\n",
       "      <td>NaN</td>\n",
       "      <td>NaN</td>\n",
       "      <td>Standard</td>\n",
       "      <td>Conventional</td>\n",
       "    </tr>\n",
       "    <tr>\n",
       "      <th>1</th>\n",
       "      <td>1139248</td>\n",
       "      <td>57000.0</td>\n",
       "      <td>117657</td>\n",
       "      <td>77</td>\n",
       "      <td>121</td>\n",
       "      <td>3.0</td>\n",
       "      <td>1996</td>\n",
       "      <td>4640.0</td>\n",
       "      <td>Low</td>\n",
       "      <td>2004</td>\n",
       "      <td>...</td>\n",
       "      <td>NaN</td>\n",
       "      <td>NaN</td>\n",
       "      <td>NaN</td>\n",
       "      <td>NaN</td>\n",
       "      <td>NaN</td>\n",
       "      <td>NaN</td>\n",
       "      <td>NaN</td>\n",
       "      <td>NaN</td>\n",
       "      <td>Standard</td>\n",
       "      <td>Conventional</td>\n",
       "    </tr>\n",
       "    <tr>\n",
       "      <th>2</th>\n",
       "      <td>1139249</td>\n",
       "      <td>10000.0</td>\n",
       "      <td>434808</td>\n",
       "      <td>7009</td>\n",
       "      <td>121</td>\n",
       "      <td>3.0</td>\n",
       "      <td>2001</td>\n",
       "      <td>2838.0</td>\n",
       "      <td>High</td>\n",
       "      <td>2004</td>\n",
       "      <td>...</td>\n",
       "      <td>NaN</td>\n",
       "      <td>NaN</td>\n",
       "      <td>NaN</td>\n",
       "      <td>NaN</td>\n",
       "      <td>NaN</td>\n",
       "      <td>NaN</td>\n",
       "      <td>NaN</td>\n",
       "      <td>NaN</td>\n",
       "      <td>NaN</td>\n",
       "      <td>NaN</td>\n",
       "    </tr>\n",
       "    <tr>\n",
       "      <th>3</th>\n",
       "      <td>1139251</td>\n",
       "      <td>38500.0</td>\n",
       "      <td>1026470</td>\n",
       "      <td>332</td>\n",
       "      <td>121</td>\n",
       "      <td>3.0</td>\n",
       "      <td>2001</td>\n",
       "      <td>3486.0</td>\n",
       "      <td>High</td>\n",
       "      <td>2011</td>\n",
       "      <td>...</td>\n",
       "      <td>NaN</td>\n",
       "      <td>NaN</td>\n",
       "      <td>NaN</td>\n",
       "      <td>NaN</td>\n",
       "      <td>NaN</td>\n",
       "      <td>NaN</td>\n",
       "      <td>NaN</td>\n",
       "      <td>NaN</td>\n",
       "      <td>NaN</td>\n",
       "      <td>NaN</td>\n",
       "    </tr>\n",
       "    <tr>\n",
       "      <th>4</th>\n",
       "      <td>1139253</td>\n",
       "      <td>11000.0</td>\n",
       "      <td>1057373</td>\n",
       "      <td>17311</td>\n",
       "      <td>121</td>\n",
       "      <td>3.0</td>\n",
       "      <td>2007</td>\n",
       "      <td>722.0</td>\n",
       "      <td>Medium</td>\n",
       "      <td>2009</td>\n",
       "      <td>...</td>\n",
       "      <td>NaN</td>\n",
       "      <td>NaN</td>\n",
       "      <td>NaN</td>\n",
       "      <td>NaN</td>\n",
       "      <td>NaN</td>\n",
       "      <td>NaN</td>\n",
       "      <td>NaN</td>\n",
       "      <td>NaN</td>\n",
       "      <td>NaN</td>\n",
       "      <td>NaN</td>\n",
       "    </tr>\n",
       "  </tbody>\n",
       "</table>\n",
       "<p>5 rows × 53 columns</p>\n",
       "</div>"
      ],
      "text/plain": [
       "   SalesID  SalePrice  MachineID  ModelID  datasource  auctioneerID  YearMade  \\\n",
       "0  1139246    66000.0     999089     3157         121           3.0      2004   \n",
       "1  1139248    57000.0     117657       77         121           3.0      1996   \n",
       "2  1139249    10000.0     434808     7009         121           3.0      2001   \n",
       "3  1139251    38500.0    1026470      332         121           3.0      2001   \n",
       "4  1139253    11000.0    1057373    17311         121           3.0      2007   \n",
       "\n",
       "   MachineHoursCurrentMeter UsageBand  saledate  ... Undercarriage_Pad_Width  \\\n",
       "0                      68.0       Low      2006  ...                     NaN   \n",
       "1                    4640.0       Low      2004  ...                     NaN   \n",
       "2                    2838.0      High      2004  ...                     NaN   \n",
       "3                    3486.0      High      2011  ...                     NaN   \n",
       "4                     722.0    Medium      2009  ...                     NaN   \n",
       "\n",
       "  Stick_Length Thumb Pattern_Changer Grouser_Type Backhoe_Mounting Blade_Type  \\\n",
       "0          NaN   NaN             NaN          NaN              NaN        NaN   \n",
       "1          NaN   NaN             NaN          NaN              NaN        NaN   \n",
       "2          NaN   NaN             NaN          NaN              NaN        NaN   \n",
       "3          NaN   NaN             NaN          NaN              NaN        NaN   \n",
       "4          NaN   NaN             NaN          NaN              NaN        NaN   \n",
       "\n",
       "  Travel_Controls Differential_Type Steering_Controls  \n",
       "0             NaN          Standard      Conventional  \n",
       "1             NaN          Standard      Conventional  \n",
       "2             NaN               NaN               NaN  \n",
       "3             NaN               NaN               NaN  \n",
       "4             NaN               NaN               NaN  \n",
       "\n",
       "[5 rows x 53 columns]"
      ]
     },
     "execution_count": 7,
     "metadata": {},
     "output_type": "execute_result"
    }
   ],
   "source": [
    "df.head()"
   ]
  },
  {
   "cell_type": "code",
   "execution_count": 8,
   "metadata": {
    "id": "89a-UmQkXUx3"
   },
   "outputs": [],
   "source": [
    "df.SalePrice= np.log(df.SalePrice) #  we will work with log of saleprice as it was stated in the rules of competition"
   ]
  },
  {
   "cell_type": "code",
   "execution_count": 9,
   "metadata": {
    "id": "I6hpttDxXUx3"
   },
   "outputs": [],
   "source": [
    "for_pred = df.drop(columns = 'SalePrice')\n",
    "important = for_pred.isnull().sum()/len(df)*100 < 90\n",
    "# this caviat is needed in the part used for prediction"
   ]
  },
  {
   "cell_type": "code",
   "execution_count": 10,
   "metadata": {
    "id": "qF0ZfVhdXUx4"
   },
   "outputs": [],
   "source": [
    "df = df[df.columns[(df.isnull().sum()/len(df)*100 < 90)]] # delete columns of which more than 90% are missing values\n",
    "object_cols = df.select_dtypes(\"object\").columns  # select object columns\n",
    "df[object_cols] = df[object_cols].astype(str) # transform all object columns to strings (some contained both str and int, and it did not good with further preprocessing)\n"
   ]
  },
  {
   "cell_type": "code",
   "execution_count": 11,
   "metadata": {
    "colab": {
     "base_uri": "https://localhost:8080/"
    },
    "id": "q3i7hADWXUx4",
    "outputId": "26c9b997-a531-4f1a-eca5-16c2f2486803"
   },
   "outputs": [
    {
     "name": "stdout",
     "output_type": "stream",
     "text": [
      "<class 'pandas.core.frame.DataFrame'>\n",
      "RangeIndex: 412698 entries, 0 to 412697\n",
      "Data columns (total 46 columns):\n",
      " #   Column                    Non-Null Count   Dtype   \n",
      "---  ------                    --------------   -----   \n",
      " 0   SalesID                   412698 non-null  int64   \n",
      " 1   SalePrice                 412698 non-null  float64 \n",
      " 2   MachineID                 412698 non-null  int64   \n",
      " 3   ModelID                   412698 non-null  int64   \n",
      " 4   datasource                412698 non-null  int64   \n",
      " 5   auctioneerID              392562 non-null  float64 \n",
      " 6   YearMade                  412698 non-null  int64   \n",
      " 7   MachineHoursCurrentMeter  147504 non-null  float64 \n",
      " 8   UsageBand                 412698 non-null  category\n",
      " 9   saledate                  412698 non-null  int64   \n",
      " 10  fiModelDesc               412698 non-null  category\n",
      " 11  fiBaseModel               412698 non-null  category\n",
      " 12  fiSecondaryDesc           412698 non-null  category\n",
      " 13  fiModelSeries             412698 non-null  category\n",
      " 14  fiModelDescriptor         412698 non-null  category\n",
      " 15  ProductSize               412698 non-null  category\n",
      " 16  fiProductClassDesc        412698 non-null  category\n",
      " 17  state                     412698 non-null  category\n",
      " 18  ProductGroup              412698 non-null  category\n",
      " 19  ProductGroupDesc          412698 non-null  category\n",
      " 20  Drive_System              412698 non-null  category\n",
      " 21  Enclosure                 412698 non-null  category\n",
      " 22  Forks                     412698 non-null  category\n",
      " 23  Pad_Type                  412698 non-null  category\n",
      " 24  Ride_Control              412698 non-null  category\n",
      " 25  Stick                     412698 non-null  category\n",
      " 26  Transmission              412698 non-null  category\n",
      " 27  Turbocharged              412698 non-null  category\n",
      " 28  Hydraulics                412698 non-null  category\n",
      " 29  Ripper                    412698 non-null  category\n",
      " 30  Tire_Size                 412698 non-null  category\n",
      " 31  Coupler                   412698 non-null  category\n",
      " 32  Coupler_System            412698 non-null  category\n",
      " 33  Grouser_Tracks            412698 non-null  category\n",
      " 34  Hydraulics_Flow           412698 non-null  category\n",
      " 35  Track_Type                412698 non-null  category\n",
      " 36  Undercarriage_Pad_Width   412698 non-null  category\n",
      " 37  Stick_Length              412698 non-null  category\n",
      " 38  Thumb                     412698 non-null  category\n",
      " 39  Pattern_Changer           412698 non-null  category\n",
      " 40  Grouser_Type              412698 non-null  category\n",
      " 41  Backhoe_Mounting          412698 non-null  category\n",
      " 42  Blade_Type                412698 non-null  category\n",
      " 43  Travel_Controls           412698 non-null  category\n",
      " 44  Differential_Type         412698 non-null  category\n",
      " 45  Steering_Controls         412698 non-null  category\n",
      "dtypes: category(37), float64(3), int64(6)\n",
      "memory usage: 44.8 MB\n"
     ]
    }
   ],
   "source": [
    "df[object_cols] = df[object_cols].astype('category')\n",
    "df.info()"
   ]
  },
  {
   "cell_type": "code",
   "execution_count": 12,
   "metadata": {
    "colab": {
     "base_uri": "https://localhost:8080/"
    },
    "id": "RjnFpkKyXUx4",
    "outputId": "397c0ac0-1114-48e2-8dd5-8219b95c2756"
   },
   "outputs": [
    {
     "name": "stdout",
     "output_type": "stream",
     "text": [
      "Unique values:\n",
      "SalesID :  412698\n",
      "MachineID :  348808\n",
      "auctioneerID :  31\n",
      "ModelID :  5281\n",
      "fiModelDesc :  5059\n"
     ]
    }
   ],
   "source": [
    "unimportant_columns = ['SalesID', 'MachineID', 'auctioneerID', 'ModelID', 'fiModelDesc'] # first look at the data assumtions\n",
    "print('Unique values:')\n",
    "for col in unimportant_columns:\n",
    "    print(col,': ',len(df[col].unique())) # the first two are unique ID which are not explanatory variable. ModelID and fiModelDesc are almost same things(see data disctionary on kaggle), so we use only fiModelDesc.... auctioneerID is an explanatory variable"
   ]
  },
  {
   "cell_type": "code",
   "execution_count": 13,
   "metadata": {
    "colab": {
     "base_uri": "https://localhost:8080/",
     "height": 465
    },
    "id": "8z1g4fMyXUx5",
    "outputId": "e1dbfe6c-dd74-484a-d542-4ffe9e7e7ff6"
   },
   "outputs": [
    {
     "data": {
      "text/plain": [
       "<AxesSubplot:xlabel='SalePrice', ylabel='Count'>"
      ]
     },
     "execution_count": 13,
     "metadata": {},
     "output_type": "execute_result"
    },
    {
     "data": {
      "image/png": "[encoded data removed]",
      "text/plain": [
       "<Figure size 1080x504 with 1 Axes>"
      ]
     },
     "metadata": {},
     "output_type": "display_data"
    }
   ],
   "source": [
    "bulldozers_X, bulldozers_y = df.drop(columns = ['SalePrice','SalesID', 'MachineID', 'ModelID']), df.SalePrice \n",
    "sns.set() \n",
    "plt.figure(figsize=(15,7))\n",
    "sns.histplot(bulldozers_y)"
   ]
  },
  {
   "cell_type": "code",
   "execution_count": 14,
   "metadata": {
    "colab": {
     "base_uri": "https://localhost:8080/",
     "height": 448
    },
    "id": "67CYhl0fXUx5",
    "outputId": "7964cbac-ae8f-4209-e804-01b9eeacc2f5"
   },
   "outputs": [
    {
     "data": {
      "image/png": "[encoded data removed]",
      "text/plain": [
       "<Figure size 1080x504 with 1 Axes>"
      ]
     },
     "metadata": {},
     "output_type": "display_data"
    }
   ],
   "source": [
    "plt.figure(figsize=(15,7))\n",
    "plot = sns.countplot(data=bulldozers_X, x=\"YearMade\", )\n",
    "new_ticks = [i.get_text() for i in plot.get_xticklabels()]\n",
    "plt.xticks(range(0, len(new_ticks), 5), new_ticks[::5])\n",
    "None"
   ]
  },
  {
   "cell_type": "code",
   "execution_count": 15,
   "metadata": {
    "colab": {
     "base_uri": "https://localhost:8080/",
     "height": 465
    },
    "id": "VApb1qViikDi",
    "outputId": "54f781cb-eff7-4523-b499-26d33e5fbdc0"
   },
   "outputs": [
    {
     "data": {
      "text/plain": [
       "<AxesSubplot:xlabel='saledate', ylabel='count'>"
      ]
     },
     "execution_count": 15,
     "metadata": {},
     "output_type": "execute_result"
    },
    {
     "data": {
      "image/png": "[encoded data removed]",
      "text/plain": [
       "<Figure size 1080x504 with 1 Axes>"
      ]
     },
     "metadata": {},
     "output_type": "display_data"
    }
   ],
   "source": [
    "plt.figure(figsize=(15,7))\n",
    "sns.countplot(data=bulldozers_X, x=\"saledate\", ) "
   ]
  },
  {
   "cell_type": "code",
   "execution_count": 16,
   "metadata": {
    "id": "xsqiKSXXXUx6",
    "outputId": "7a0373be-2274-4485-a5a7-07a64b3f6386"
   },
   "outputs": [
    {
     "data": {
      "text/plain": [
       "nan       339028\n",
       "Medium     35832\n",
       "Low        25311\n",
       "High       12527\n",
       "Name: UsageBand, dtype: int64"
      ]
     },
     "execution_count": 16,
     "metadata": {},
     "output_type": "execute_result"
    }
   ],
   "source": [
    "df.UsageBand.value_counts() # usage of the buldozzers are in 3 categories plus nan"
   ]
  },
  {
   "cell_type": "code",
   "execution_count": 17,
   "metadata": {
    "id": "LwpDx0ItXUx6",
    "outputId": "5588c721-f38b-42a1-81e0-18a24a0eaba8"
   },
   "outputs": [
    {
     "data": {
      "text/plain": [
       "0            Low\n",
       "1            Low\n",
       "2           High\n",
       "3           High\n",
       "4         Medium\n",
       "           ...  \n",
       "412693       nan\n",
       "412694       nan\n",
       "412695       nan\n",
       "412696       nan\n",
       "412697       nan\n",
       "Name: UsageBand, Length: 412698, dtype: category\n",
       "Categories (4, object): ['nan' < 'Low' < 'Medium' < 'High']"
      ]
     },
     "execution_count": 17,
     "metadata": {},
     "output_type": "execute_result"
    }
   ],
   "source": [
    "df.UsageBand.cat.set_categories(['nan', 'Low', 'Medium', 'High'], ordered=True, inplace=True) # we set the categories to be ordered by the amount of usage\n",
    "df.UsageBand"
   ]
  },
  {
   "cell_type": "code",
   "execution_count": 18,
   "metadata": {
    "id": "CcYW4_7sXUx6"
   },
   "outputs": [],
   "source": [
    "X_train, X_val, y_train, y_val= train_test_split(\n",
    "    bulldozers_X, bulldozers_y, test_size=0.2, random_state=18\n",
    ") # validation and train set with reproducible random_state set"
   ]
  },
  {
   "cell_type": "code",
   "execution_count": 19,
   "metadata": {
    "id": "H-b_-UhMXUx6",
    "outputId": "560157e2-aa55-4a9f-8f89-0848cc868727"
   },
   "outputs": [
    {
     "data": {
      "text/html": [
       "<div>\n",
       "<style scoped>\n",
       "    .dataframe tbody tr th:only-of-type {\n",
       "        vertical-align: middle;\n",
       "    }\n",
       "\n",
       "    .dataframe tbody tr th {\n",
       "        vertical-align: top;\n",
       "    }\n",
       "\n",
       "    .dataframe thead th {\n",
       "        text-align: right;\n",
       "    }\n",
       "</style>\n",
       "<table border=\"1\" class=\"dataframe\">\n",
       "  <thead>\n",
       "    <tr style=\"text-align: right;\">\n",
       "      <th></th>\n",
       "      <th>datasource</th>\n",
       "      <th>auctioneerID</th>\n",
       "      <th>YearMade</th>\n",
       "      <th>MachineHoursCurrentMeter</th>\n",
       "      <th>saledate</th>\n",
       "    </tr>\n",
       "  </thead>\n",
       "  <tbody>\n",
       "    <tr>\n",
       "      <th>datasource</th>\n",
       "      <td>1.000000</td>\n",
       "      <td>-0.019021</td>\n",
       "      <td>0.070933</td>\n",
       "      <td>0.009747</td>\n",
       "      <td>0.354394</td>\n",
       "    </tr>\n",
       "    <tr>\n",
       "      <th>auctioneerID</th>\n",
       "      <td>-0.019021</td>\n",
       "      <td>1.000000</td>\n",
       "      <td>-0.019037</td>\n",
       "      <td>0.030911</td>\n",
       "      <td>-0.060987</td>\n",
       "    </tr>\n",
       "    <tr>\n",
       "      <th>YearMade</th>\n",
       "      <td>0.070933</td>\n",
       "      <td>-0.019037</td>\n",
       "      <td>1.000000</td>\n",
       "      <td>-0.011598</td>\n",
       "      <td>-0.042783</td>\n",
       "    </tr>\n",
       "    <tr>\n",
       "      <th>MachineHoursCurrentMeter</th>\n",
       "      <td>0.009747</td>\n",
       "      <td>0.030911</td>\n",
       "      <td>-0.011598</td>\n",
       "      <td>1.000000</td>\n",
       "      <td>0.028243</td>\n",
       "    </tr>\n",
       "    <tr>\n",
       "      <th>saledate</th>\n",
       "      <td>0.354394</td>\n",
       "      <td>-0.060987</td>\n",
       "      <td>-0.042783</td>\n",
       "      <td>0.028243</td>\n",
       "      <td>1.000000</td>\n",
       "    </tr>\n",
       "  </tbody>\n",
       "</table>\n",
       "</div>"
      ],
      "text/plain": [
       "                          datasource  auctioneerID  YearMade  \\\n",
       "datasource                  1.000000     -0.019021  0.070933   \n",
       "auctioneerID               -0.019021      1.000000 -0.019037   \n",
       "YearMade                    0.070933     -0.019037  1.000000   \n",
       "MachineHoursCurrentMeter    0.009747      0.030911 -0.011598   \n",
       "saledate                    0.354394     -0.060987 -0.042783   \n",
       "\n",
       "                          MachineHoursCurrentMeter  saledate  \n",
       "datasource                                0.009747  0.354394  \n",
       "auctioneerID                              0.030911 -0.060987  \n",
       "YearMade                                 -0.011598 -0.042783  \n",
       "MachineHoursCurrentMeter                  1.000000  0.028243  \n",
       "saledate                                  0.028243  1.000000  "
      ]
     },
     "execution_count": 19,
     "metadata": {},
     "output_type": "execute_result"
    }
   ],
   "source": [
    "bulldozers_X.corr() # not serious correlation between numerical variables"
   ]
  },
  {
   "cell_type": "markdown",
   "metadata": {
    "id": "FbW6yocKXUx7"
   },
   "source": [
    "# Training the model"
   ]
  },
  {
   "cell_type": "code",
   "execution_count": 20,
   "metadata": {
    "id": "Zk2cnubVXUx7"
   },
   "outputs": [],
   "source": [
    "num_features = X_train.select_dtypes(\"number\").columns\n",
    "numeric_transformer = Pipeline(steps=[\n",
    "    ('imputer', SimpleImputer(strategy='mean')), # for the missing numerical value we input the mean of the column\n",
    "    ('scaler', StandardScaler())])\n",
    "\n",
    "cat_features = X_train.select_dtypes(\"category\").columns\n",
    "categorical_transformer = Pipeline(steps=[\n",
    "    ('imputer', SimpleImputer(missing_values='nan', strategy='constant', fill_value = 'missing')), # for missing value we add a new category 'missing'\n",
    "    ('onehot', OneHotEncoder(handle_unknown='ignore'))\n",
    "    ])\n",
    "\n",
    "\n",
    "preprocessor = ColumnTransformer(transformers=[\n",
    "    ('num', numeric_transformer, num_features),\n",
    "    ('cat', categorical_transformer, cat_features)\n",
    "])\n",
    "\n",
    "\n",
    "                                                          "
   ]
  },
  {
   "cell_type": "code",
   "execution_count": 21,
   "metadata": {
    "id": "Vs6Fm6iUXUx7"
   },
   "outputs": [],
   "source": [
    "def rmse(y_true, y_pred):\n",
    "    return np.sqrt(mean_squared_error(y_true, y_pred))\n",
    "\n",
    "def print_score(m, X_train = X_train, y_train = y_train, tstx = X_val, tsty = y_val):\n",
    "    res = [rmse(m.predict(X_train), y_train), rmse(m.predict(tstx), tsty),\n",
    "                m.score(X_train, y_train), m.score(tstx, tsty)]\n",
    "    tart = ['rmse train', 'rmse test', 'R2 train', 'R2 test']\n",
    "    for v in range(len(res)):\n",
    "        print(tart[v], \":\", res[v], end = \"\\n\")\n",
    "        "
   ]
  },
  {
   "cell_type": "markdown",
   "metadata": {
    "id": "8Vjb7VDPXUx7"
   },
   "source": [
    "## Decision tree regressor\n"
   ]
  },
  {
   "cell_type": "code",
   "execution_count": 56,
   "metadata": {
    "id": "4W4IB3gnXUx7"
   },
   "outputs": [],
   "source": [
    "reg_tree =  Pipeline(steps=[('preprocessor', preprocessor),\n",
    "                            ('regressor', DecisionTreeRegressor(\n",
    "                                criterion = 'mse',\n",
    "                                random_state = 18,\n",
    "                                splitter = 'best',\n",
    "                                min_samples_split = 8,\n",
    "                                min_samples_leaf = 3,\n",
    "                                     ))])"
   ]
  },
  {
   "cell_type": "code",
   "execution_count": 57,
   "metadata": {
    "id": "gC5ybIsiXUx8",
    "outputId": "455a6d4b-8205-45e7-95bb-96e968a4ae73"
   },
   "outputs": [
    {
     "data": {
      "text/plain": [
       "Pipeline(steps=[('preprocessor',\n",
       "                 ColumnTransformer(transformers=[('num',\n",
       "                                                  Pipeline(steps=[('imputer',\n",
       "                                                                   SimpleImputer()),\n",
       "                                                                  ('scaler',\n",
       "                                                                   StandardScaler())]),\n",
       "                                                  Index(['datasource', 'auctioneerID', 'YearMade', 'MachineHoursCurrentMeter',\n",
       "       'saledate'],\n",
       "      dtype='object')),\n",
       "                                                 ('cat',\n",
       "                                                  Pipeline(steps=[('imputer',\n",
       "                                                                   SimpleImputer(fill_value='missing',\n",
       "                                                                                 missing_values='nan',\n",
       "                                                                                 strategy='con...\n",
       "       'Tire_Size', 'Coupler', 'Coupler_System', 'Grouser_Tracks',\n",
       "       'Hydraulics_Flow', 'Track_Type', 'Undercarriage_Pad_Width',\n",
       "       'Stick_Length', 'Thumb', 'Pattern_Changer', 'Grouser_Type',\n",
       "       'Backhoe_Mounting', 'Blade_Type', 'Travel_Controls',\n",
       "       'Differential_Type', 'Steering_Controls'],\n",
       "      dtype='object'))])),\n",
       "                ('regressor',\n",
       "                 DecisionTreeRegressor(min_samples_leaf=3, min_samples_split=8,\n",
       "                                       random_state=18))])"
      ]
     },
     "execution_count": 57,
     "metadata": {},
     "output_type": "execute_result"
    }
   ],
   "source": [
    "reg_tree.fit(X_train,y_train)"
   ]
  },
  {
   "cell_type": "code",
   "execution_count": 58,
   "metadata": {
    "id": "DvJa1ouUXUx8",
    "outputId": "b8d1a211-dbdd-466e-acf7-9b260fd474ae"
   },
   "outputs": [
    {
     "name": "stdout",
     "output_type": "stream",
     "text": [
      "rmse train : 0.14841029267411754\n",
      "rmse test : 0.2581066320892598\n",
      "R2 train : 0.954392823864948\n",
      "R2 test : 0.8621761362985874\n"
     ]
    }
   ],
   "source": [
    "print_score(reg_tree)\n"
   ]
  },
  {
   "cell_type": "markdown",
   "metadata": {
    "id": "-Hu622gxXUx8"
   },
   "source": [
    "## Random forest regressor\n"
   ]
  },
  {
   "cell_type": "code",
   "execution_count": 59,
   "metadata": {
    "id": "0Hrt97OFXUx8"
   },
   "outputs": [],
   "source": [
    "rfr =  Pipeline(steps=[('preprocessor', preprocessor),\n",
    "                            ('regressor', RandomForestRegressor(\n",
    "                                n_estimators = 70,\n",
    "                                criterion = 'mse',\n",
    "                                random_state = 18,\n",
    "                                bootstrap = True,\n",
    "                                 min_samples_split = 10,\n",
    "                                min_samples_leaf = 5,\n",
    "                                max_features = 0.5,\n",
    "                                max_samples = 0.5,\n",
    "                                n_jobs = -2,   # parallel processes  \n",
    "                                warm_start = True   \n",
    "                                ))])"
   ]
  },
  {
   "cell_type": "code",
   "execution_count": 60,
   "metadata": {},
   "outputs": [
    {
     "name": "stdout",
     "output_type": "stream",
     "text": [
      "Wall time: 1h 41min 9s\n"
     ]
    },
    {
     "data": {
      "text/plain": [
       "Pipeline(steps=[('preprocessor',\n",
       "                 ColumnTransformer(transformers=[('num',\n",
       "                                                  Pipeline(steps=[('imputer',\n",
       "                                                                   SimpleImputer()),\n",
       "                                                                  ('scaler',\n",
       "                                                                   StandardScaler())]),\n",
       "                                                  Index(['datasource', 'auctioneerID', 'YearMade', 'MachineHoursCurrentMeter',\n",
       "       'saledate'],\n",
       "      dtype='object')),\n",
       "                                                 ('cat',\n",
       "                                                  Pipeline(steps=[('imputer',\n",
       "                                                                   SimpleImputer(fill_value='missing',\n",
       "                                                                                 missing_values='nan',\n",
       "                                                                                 strategy='con...\n",
       "       'Hydraulics_Flow', 'Track_Type', 'Undercarriage_Pad_Width',\n",
       "       'Stick_Length', 'Thumb', 'Pattern_Changer', 'Grouser_Type',\n",
       "       'Backhoe_Mounting', 'Blade_Type', 'Travel_Controls',\n",
       "       'Differential_Type', 'Steering_Controls'],\n",
       "      dtype='object'))])),\n",
       "                ('regressor',\n",
       "                 RandomForestRegressor(max_features=0.5, max_samples=0.5,\n",
       "                                       min_samples_leaf=5, min_samples_split=10,\n",
       "                                       n_estimators=70, n_jobs=-2,\n",
       "                                       random_state=18, warm_start=True))])"
      ]
     },
     "execution_count": 60,
     "metadata": {},
     "output_type": "execute_result"
    }
   ],
   "source": [
    "%%time\n",
    "rfr.fit(X_train, y_train)\n",
    "#with warm start = True"
   ]
  },
  {
   "cell_type": "code",
   "execution_count": 61,
   "metadata": {},
   "outputs": [
    {
     "name": "stdout",
     "output_type": "stream",
     "text": [
      "rmse train : 0.1964609656350591\n",
      "rmse test : 0.22340001639155205\n",
      "R2 train : 0.9200795927220615\n",
      "R2 test : 0.8967494214163518\n"
     ]
    }
   ],
   "source": [
    "print_score(rfr)\n",
    "# with warm start = True"
   ]
  },
  {
   "cell_type": "markdown",
   "metadata": {
    "id": "u--hQIPiXUx9"
   },
   "source": [
    "## Finding the best hypperparameters\n"
   ]
  },
  {
   "cell_type": "markdown",
   "metadata": {
    "id": "UXp499n5XUx9"
   },
   "source": [
    "### Random forest\n"
   ]
  },
  {
   "cell_type": "code",
   "execution_count": 30,
   "metadata": {
    "id": "qe7AjBEbXUx9"
   },
   "outputs": [],
   "source": [
    "rf_grid = {\n",
    "    \"min_samples_split\": [10, 15, 20],\n",
    "    \"min_samples_leaf\": [5, 10, 20],\n",
    "    #\"ccp_alpha\": [0.0, 0.001, 0.01],\n",
    "    \"max_samples\": [0.3,0.5],\n",
    "    \"max_features\": [0.3, 0.5],\n",
    "    \"n_estimators\": [70],\n",
    "}\n",
    "rf_model = RandomForestRegressor(\n",
    "    criterion = 'mse',\n",
    "    warm_start = True)\n",
    "\n",
    "gs_rf = Pipeline(steps=[('preprocessor', preprocessor),\n",
    "                        ('gs', GridSearchCV(rf_model, rf_grid, n_jobs = -1, cv = 3, refit = True, verbose = 5))])"
   ]
  },
  {
   "cell_type": "code",
   "execution_count": 31,
   "metadata": {
    "id": "IBF0BF57XUx-"
   },
   "outputs": [
    {
     "name": "stdout",
     "output_type": "stream",
     "text": [
      "Fitting 3 folds for each of 36 candidates, totalling 108 fits\n",
      "Wall time: 8h 33min 11s\n"
     ]
    },
    {
     "data": {
      "text/plain": [
       "Pipeline(steps=[('preprocessor',\n",
       "                 ColumnTransformer(transformers=[('num',\n",
       "                                                  Pipeline(steps=[('imputer',\n",
       "                                                                   SimpleImputer()),\n",
       "                                                                  ('scaler',\n",
       "                                                                   StandardScaler())]),\n",
       "                                                  Index(['datasource', 'auctioneerID', 'YearMade', 'MachineHoursCurrentMeter',\n",
       "       'saledate'],\n",
       "      dtype='object')),\n",
       "                                                 ('cat',\n",
       "                                                  Pipeline(steps=[('imputer',\n",
       "                                                                   SimpleImputer(fill_value='missing',\n",
       "                                                                                 missing_values='nan',\n",
       "                                                                                 strategy='con...\n",
       "       'Stick_Length', 'Thumb', 'Pattern_Changer', 'Grouser_Type',\n",
       "       'Backhoe_Mounting', 'Blade_Type', 'Travel_Controls',\n",
       "       'Differential_Type', 'Steering_Controls'],\n",
       "      dtype='object'))])),\n",
       "                ('gs',\n",
       "                 GridSearchCV(cv=3,\n",
       "                              estimator=RandomForestRegressor(warm_start=True),\n",
       "                              n_jobs=-1,\n",
       "                              param_grid={'max_features': [0.3, 0.5],\n",
       "                                          'max_samples': [0.3, 0.5],\n",
       "                                          'min_samples_leaf': [5, 10, 20],\n",
       "                                          'min_samples_split': [10, 15, 20],\n",
       "                                          'n_estimators': [70]},\n",
       "                              verbose=5))])"
      ]
     },
     "execution_count": 31,
     "metadata": {},
     "output_type": "execute_result"
    }
   ],
   "source": [
    "%%time\n",
    "gs_rf.fit(bulldozers_X , bulldozers_y)"
   ]
  },
  {
   "cell_type": "code",
   "execution_count": 35,
   "metadata": {},
   "outputs": [
    {
     "data": {
      "text/plain": [
       "{'max_features': 0.5,\n",
       " 'max_samples': 0.5,\n",
       " 'min_samples_leaf': 5,\n",
       " 'min_samples_split': 10,\n",
       " 'n_estimators': 70}"
      ]
     },
     "execution_count": 35,
     "metadata": {},
     "output_type": "execute_result"
    }
   ],
   "source": [
    "gs_rf['gs'].best_params_"
   ]
  },
  {
   "cell_type": "code",
   "execution_count": 36,
   "metadata": {},
   "outputs": [
    {
     "data": {
      "text/plain": [
       "0.8173006974191548"
      ]
     },
     "execution_count": 36,
     "metadata": {},
     "output_type": "execute_result"
    }
   ],
   "source": [
    "gs_rf['gs'].best_score_ # mean cross validated score"
   ]
  },
  {
   "cell_type": "code",
   "execution_count": 63,
   "metadata": {},
   "outputs": [],
   "source": [
    "estimator = gs_rf['gs'].best_estimator_"
   ]
  },
  {
   "cell_type": "markdown",
   "metadata": {
    "id": "q8NF_j7eXUx-"
   },
   "source": [
    "# Evaluating on test set\n"
   ]
  },
  {
   "cell_type": "markdown",
   "metadata": {
    "id": "f_YkhJaLYyJ8"
   },
   "source": [
    "## Data load"
   ]
  },
  {
   "cell_type": "markdown",
   "metadata": {
    "id": "V0GuliwcfIBN"
   },
   "source": [
    "### From local machine"
   ]
  },
  {
   "cell_type": "code",
   "execution_count": 38,
   "metadata": {
    "id": "hl6VgfiNXUx-"
   },
   "outputs": [],
   "source": [
    "X_test = pd.read_csv(\"/notebooky/Data/Test.csv\", parse_dates=['saledate'], low_memory = False) "
   ]
  },
  {
   "cell_type": "code",
   "execution_count": 39,
   "metadata": {
    "id": "ZJ2E37IqXUx_"
   },
   "outputs": [],
   "source": [
    "y_test = pd.read_csv(\"/notebooky/Data/Random_forest_benchmark_test.csv\",  low_memory = False)\n"
   ]
  },
  {
   "cell_type": "markdown",
   "metadata": {
    "id": "H0lQywhOfKeK"
   },
   "source": [
    "### From Google Drive"
   ]
  },
  {
   "cell_type": "code",
   "execution_count": null,
   "metadata": {
    "id": "hhON6bqdfNZ7"
   },
   "outputs": [],
   "source": [
    "X_test = pd.read_csv('/content/drive/MyDrive/M7DataSP/blue_book_for_bulldozers/Test.csv', parse_dates=['saledate'], low_memory = False) "
   ]
  },
  {
   "cell_type": "code",
   "execution_count": null,
   "metadata": {
    "id": "Gparm-9KfTr3"
   },
   "outputs": [],
   "source": [
    "y_test = pd.read_csv('/content/drive/MyDrive/M7DataSP/blue_book_for_bulldozers/Random_forest_benchmark_test.csv',  low_memory = False)"
   ]
  },
  {
   "cell_type": "markdown",
   "metadata": {
    "id": "N6CQJNgaY2QV"
   },
   "source": [
    "## Data preprocessing"
   ]
  },
  {
   "cell_type": "code",
   "execution_count": 40,
   "metadata": {
    "id": "yauCBkXmXUx_",
    "outputId": "aeb163d4-5368-43ac-c6f9-6606a1760481"
   },
   "outputs": [
    {
     "data": {
      "text/plain": [
       "{'SalePrice'}"
      ]
     },
     "execution_count": 40,
     "metadata": {},
     "output_type": "execute_result"
    }
   ],
   "source": [
    "set(df.columns) - set(X_test.columns) # the test dataset is without the Saleprice. However, this column we have in Random_forest_benchmark_test.csv\n"
   ]
  },
  {
   "cell_type": "code",
   "execution_count": 41,
   "metadata": {
    "id": "hes50ds_XUx_"
   },
   "outputs": [],
   "source": [
    "# Processing of price column\n",
    "y_test = y_test.SalePrice\n",
    "y_test= np.log(y_test) #  we will work with log of saleprice as it was stated in the rules of competition\n"
   ]
  },
  {
   "cell_type": "code",
   "execution_count": 42,
   "metadata": {
    "id": "1cPduQS9XUx_",
    "outputId": "7fad813b-4535-460c-a80c-222827c71cc5"
   },
   "outputs": [
    {
     "data": {
      "text/plain": [
       "((12457,), (12457, 52))"
      ]
     },
     "execution_count": 42,
     "metadata": {},
     "output_type": "execute_result"
    }
   ],
   "source": [
    "y_test.shape, X_test.shape\n"
   ]
  },
  {
   "cell_type": "code",
   "execution_count": 43,
   "metadata": {
    "id": "xdCSEp-aXUyA"
   },
   "outputs": [],
   "source": [
    "X_test.saledate = X_test.saledate.dt.year\n",
    "X_test = X_test[X_test.columns[important]] # delete columns of which more than 90% are missing values from the train set\n",
    "X_test[object_cols] = X_test[object_cols].astype(str) # same preprocessing as on train set\n",
    "X_test[object_cols] = X_test[object_cols].astype('category')\n",
    "X_test.UsageBand.cat.set_categories(['nan', 'Low', 'Medium', 'High'], ordered=True, inplace=True)\n",
    "\n"
   ]
  },
  {
   "cell_type": "code",
   "execution_count": 44,
   "metadata": {
    "id": "qfxzCiCbXUyA",
    "outputId": "0ae57229-1968-4102-d269-35bdc0c53a05"
   },
   "outputs": [
    {
     "data": {
      "text/plain": [
       "((330158, 42), (12457, 42))"
      ]
     },
     "execution_count": 44,
     "metadata": {},
     "output_type": "execute_result"
    }
   ],
   "source": [
    "X_test = X_test.drop(columns = ['SalesID', 'MachineID', 'ModelID'])\n",
    "X_train.shape, X_test.shape"
   ]
  },
  {
   "cell_type": "code",
   "execution_count": 55,
   "metadata": {
    "id": "Vx9mGG7FXUyA"
   },
   "outputs": [
    {
     "name": "stdout",
     "output_type": "stream",
     "text": [
      "rmse train : 0.1933177345457528\n",
      "rmse test : 0.1343159295823248\n",
      "R2 train : 0.9226306840657036\n",
      "R2 test : 0.9621487367655378\n"
     ]
    }
   ],
   "source": [
    "print_score(gs_rf, bulldozers_X, bulldozers_y, X_test, y_test) # skore na testovacich datach v porovnani s benchmarkokm na urovni 0.96 R2 skore"
   ]
  },
  {
   "cell_type": "code",
   "execution_count": 64,
   "metadata": {},
   "outputs": [],
   "source": [
    "import pickle"
   ]
  },
  {
   "cell_type": "code",
   "execution_count": 65,
   "metadata": {},
   "outputs": [],
   "source": [
    "filename = 'final_model.sav'"
   ]
  },
  {
   "cell_type": "code",
   "execution_count": 66,
   "metadata": {},
   "outputs": [],
   "source": [
    "pickle.dump(gs_rf, open(filename, 'wb'))"
   ]
  },
  {
   "cell_type": "code",
   "execution_count": 67,
   "metadata": {},
   "outputs": [],
   "source": [
    "saved_model = pickle.load(open(filename, 'rb'))"
   ]
  },
  {
   "cell_type": "code",
   "execution_count": null,
   "metadata": {},
   "outputs": [],
   "source": []
  }
 ],
 "metadata": {
  "colab": {
   "include_colab_link": true,
   "name": "blue_book_for_bulldozers.ipynb",
   "provenance": [],
   "toc_visible": true
  },
  "kernelspec": {
   "display_name": "Python 3",
   "language": "python",
   "name": "python3"
  },
  "language_info": {
   "codemirror_mode": {
    "name": "ipython",
    "version": 3
   },
   "file_extension": ".py",
   "mimetype": "text/x-python",
   "name": "python",
   "nbconvert_exporter": "python",
   "pygments_lexer": "ipython3",
   "version": "3.8.0"
  }
 },
 "nbformat": 4,
 "nbformat_minor": 4
}
