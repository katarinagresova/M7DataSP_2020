{
 "metadata": {
  "language_info": {
   "codemirror_mode": {
    "name": "ipython",
    "version": 3
   },
   "file_extension": ".py",
   "mimetype": "text/x-python",
   "name": "python",
   "nbconvert_exporter": "python",
   "pygments_lexer": "ipython3",
   "version": "3.7.9-final"
  },
  "orig_nbformat": 2,
  "kernelspec": {
   "name": "python3",
   "display_name": "Python 3",
   "language": "python"
  }
 },
 "nbformat": 4,
 "nbformat_minor": 2,
 "cells": [
  {
   "cell_type": "code",
   "execution_count": 3,
   "metadata": {},
   "outputs": [],
   "source": [
    "import numpy as np \n",
    "import pandas as pd \n",
    "import seaborn as sns\n",
    "import matplotlib.pyplot as plt\n",
    "from sklearn.model_selection import train_test_split\n",
    "from sklearn.pipeline import Pipeline\n",
    "from sklearn.impute import SimpleImputer\n",
    "from sklearn.preprocessing import StandardScaler\n",
    "from sklearn.compose import ColumnTransformer\n",
    "from sklearn.preprocessing import OneHotEncoder\n",
    "from sklearn.tree import DecisionTreeRegressor\n",
    "from sklearn.tree import DecisionTreeClassifier\n",
    "from sklearn.metrics import mean_squared_error\n",
    "from sklearn.metrics import f1_score, precision_score, recall_score"
   ]
  },
  {
   "source": [
    "df = pd.read_csv(\"F:\\Data\\TrainAndValid.csv\") "
   ],
   "cell_type": "code",
   "metadata": {},
   "execution_count": 5,
   "outputs": []
  },
  {
   "cell_type": "code",
   "execution_count": 8,
   "metadata": {},
   "outputs": [
    {
     "output_type": "execute_result",
     "data": {
      "text/plain": [
       "        SalesID  SalePrice  MachineID  ModelID  datasource  auctioneerID  \\\n",
       "0       1139246    66000.0     999089     3157         121           3.0   \n",
       "1       1139248    57000.0     117657       77         121           3.0   \n",
       "2       1139249    10000.0     434808     7009         121           3.0   \n",
       "3       1139251    38500.0    1026470      332         121           3.0   \n",
       "4       1139253    11000.0    1057373    17311         121           3.0   \n",
       "...         ...        ...        ...      ...         ...           ...   \n",
       "412693  6333344    10000.0    1919201    21435         149           2.0   \n",
       "412694  6333345    10500.0    1882122    21436         149           2.0   \n",
       "412695  6333347    12500.0    1944213    21435         149           2.0   \n",
       "412696  6333348    10000.0    1794518    21435         149           2.0   \n",
       "412697  6333349    13000.0    1944743    21436         149           2.0   \n",
       "\n",
       "        YearMade  MachineHoursCurrentMeter UsageBand         saledate  ...  \\\n",
       "0           2004                      68.0       Low  11/16/2006 0:00  ...   \n",
       "1           1996                    4640.0       Low   3/26/2004 0:00  ...   \n",
       "2           2001                    2838.0      High   2/26/2004 0:00  ...   \n",
       "3           2001                    3486.0      High   5/19/2011 0:00  ...   \n",
       "4           2007                     722.0    Medium   7/23/2009 0:00  ...   \n",
       "...          ...                       ...       ...              ...  ...   \n",
       "412693      2005                       NaN       NaN    3/7/2012 0:00  ...   \n",
       "412694      2005                       NaN       NaN   1/28/2012 0:00  ...   \n",
       "412695      2005                       NaN       NaN   1/28/2012 0:00  ...   \n",
       "412696      2006                       NaN       NaN    3/7/2012 0:00  ...   \n",
       "412697      2006                       NaN       NaN   1/28/2012 0:00  ...   \n",
       "\n",
       "       Undercarriage_Pad_Width         Stick_Length                Thumb  \\\n",
       "0                          NaN                  NaN                  NaN   \n",
       "1                          NaN                  NaN                  NaN   \n",
       "2                          NaN                  NaN                  NaN   \n",
       "3                          NaN                  NaN                  NaN   \n",
       "4                          NaN                  NaN                  NaN   \n",
       "...                        ...                  ...                  ...   \n",
       "412693     None or Unspecified  None or Unspecified  None or Unspecified   \n",
       "412694     None or Unspecified  None or Unspecified  None or Unspecified   \n",
       "412695     None or Unspecified  None or Unspecified  None or Unspecified   \n",
       "412696     None or Unspecified  None or Unspecified  None or Unspecified   \n",
       "412697     None or Unspecified  None or Unspecified  None or Unspecified   \n",
       "\n",
       "            Pattern_Changer Grouser_Type Backhoe_Mounting Blade_Type  \\\n",
       "0                       NaN          NaN              NaN        NaN   \n",
       "1                       NaN          NaN              NaN        NaN   \n",
       "2                       NaN          NaN              NaN        NaN   \n",
       "3                       NaN          NaN              NaN        NaN   \n",
       "4                       NaN          NaN              NaN        NaN   \n",
       "...                     ...          ...              ...        ...   \n",
       "412693  None or Unspecified       Double              NaN        NaN   \n",
       "412694  None or Unspecified       Double              NaN        NaN   \n",
       "412695  None or Unspecified       Double              NaN        NaN   \n",
       "412696  None or Unspecified       Double              NaN        NaN   \n",
       "412697  None or Unspecified       Double              NaN        NaN   \n",
       "\n",
       "       Travel_Controls Differential_Type Steering_Controls  \n",
       "0                  NaN          Standard      Conventional  \n",
       "1                  NaN          Standard      Conventional  \n",
       "2                  NaN               NaN               NaN  \n",
       "3                  NaN               NaN               NaN  \n",
       "4                  NaN               NaN               NaN  \n",
       "...                ...               ...               ...  \n",
       "412693             NaN               NaN               NaN  \n",
       "412694             NaN               NaN               NaN  \n",
       "412695             NaN               NaN               NaN  \n",
       "412696             NaN               NaN               NaN  \n",
       "412697             NaN               NaN               NaN  \n",
       "\n",
       "[412698 rows x 53 columns]"
      ],
      "text/html": "<div>\n<style scoped>\n    .dataframe tbody tr th:only-of-type {\n        vertical-align: middle;\n    }\n\n    .dataframe tbody tr th {\n        vertical-align: top;\n    }\n\n    .dataframe thead th {\n        text-align: right;\n    }\n</style>\n<table border=\"1\" class=\"dataframe\">\n  <thead>\n    <tr style=\"text-align: right;\">\n      <th></th>\n      <th>SalesID</th>\n      <th>SalePrice</th>\n      <th>MachineID</th>\n      <th>ModelID</th>\n      <th>datasource</th>\n      <th>auctioneerID</th>\n      <th>YearMade</th>\n      <th>MachineHoursCurrentMeter</th>\n      <th>UsageBand</th>\n      <th>saledate</th>\n      <th>...</th>\n      <th>Undercarriage_Pad_Width</th>\n      <th>Stick_Length</th>\n      <th>Thumb</th>\n      <th>Pattern_Changer</th>\n      <th>Grouser_Type</th>\n      <th>Backhoe_Mounting</th>\n      <th>Blade_Type</th>\n      <th>Travel_Controls</th>\n      <th>Differential_Type</th>\n      <th>Steering_Controls</th>\n    </tr>\n  </thead>\n  <tbody>\n    <tr>\n      <th>0</th>\n      <td>1139246</td>\n      <td>66000.0</td>\n      <td>999089</td>\n      <td>3157</td>\n      <td>121</td>\n      <td>3.0</td>\n      <td>2004</td>\n      <td>68.0</td>\n      <td>Low</td>\n      <td>11/16/2006 0:00</td>\n      <td>...</td>\n      <td>NaN</td>\n      <td>NaN</td>\n      <td>NaN</td>\n      <td>NaN</td>\n      <td>NaN</td>\n      <td>NaN</td>\n      <td>NaN</td>\n      <td>NaN</td>\n      <td>Standard</td>\n      <td>Conventional</td>\n    </tr>\n    <tr>\n      <th>1</th>\n      <td>1139248</td>\n      <td>57000.0</td>\n      <td>117657</td>\n      <td>77</td>\n      <td>121</td>\n      <td>3.0</td>\n      <td>1996</td>\n      <td>4640.0</td>\n      <td>Low</td>\n      <td>3/26/2004 0:00</td>\n      <td>...</td>\n      <td>NaN</td>\n      <td>NaN</td>\n      <td>NaN</td>\n      <td>NaN</td>\n      <td>NaN</td>\n      <td>NaN</td>\n      <td>NaN</td>\n      <td>NaN</td>\n      <td>Standard</td>\n      <td>Conventional</td>\n    </tr>\n    <tr>\n      <th>2</th>\n      <td>1139249</td>\n      <td>10000.0</td>\n      <td>434808</td>\n      <td>7009</td>\n      <td>121</td>\n      <td>3.0</td>\n      <td>2001</td>\n      <td>2838.0</td>\n      <td>High</td>\n      <td>2/26/2004 0:00</td>\n      <td>...</td>\n      <td>NaN</td>\n      <td>NaN</td>\n      <td>NaN</td>\n      <td>NaN</td>\n      <td>NaN</td>\n      <td>NaN</td>\n      <td>NaN</td>\n      <td>NaN</td>\n      <td>NaN</td>\n      <td>NaN</td>\n    </tr>\n    <tr>\n      <th>3</th>\n      <td>1139251</td>\n      <td>38500.0</td>\n      <td>1026470</td>\n      <td>332</td>\n      <td>121</td>\n      <td>3.0</td>\n      <td>2001</td>\n      <td>3486.0</td>\n      <td>High</td>\n      <td>5/19/2011 0:00</td>\n      <td>...</td>\n      <td>NaN</td>\n      <td>NaN</td>\n      <td>NaN</td>\n      <td>NaN</td>\n      <td>NaN</td>\n      <td>NaN</td>\n      <td>NaN</td>\n      <td>NaN</td>\n      <td>NaN</td>\n      <td>NaN</td>\n    </tr>\n    <tr>\n      <th>4</th>\n      <td>1139253</td>\n      <td>11000.0</td>\n      <td>1057373</td>\n      <td>17311</td>\n      <td>121</td>\n      <td>3.0</td>\n      <td>2007</td>\n      <td>722.0</td>\n      <td>Medium</td>\n      <td>7/23/2009 0:00</td>\n      <td>...</td>\n      <td>NaN</td>\n      <td>NaN</td>\n      <td>NaN</td>\n      <td>NaN</td>\n      <td>NaN</td>\n      <td>NaN</td>\n      <td>NaN</td>\n      <td>NaN</td>\n      <td>NaN</td>\n      <td>NaN</td>\n    </tr>\n    <tr>\n      <th>...</th>\n      <td>...</td>\n      <td>...</td>\n      <td>...</td>\n      <td>...</td>\n      <td>...</td>\n      <td>...</td>\n      <td>...</td>\n      <td>...</td>\n      <td>...</td>\n      <td>...</td>\n      <td>...</td>\n      <td>...</td>\n      <td>...</td>\n      <td>...</td>\n      <td>...</td>\n      <td>...</td>\n      <td>...</td>\n      <td>...</td>\n      <td>...</td>\n      <td>...</td>\n      <td>...</td>\n    </tr>\n    <tr>\n      <th>412693</th>\n      <td>6333344</td>\n      <td>10000.0</td>\n      <td>1919201</td>\n      <td>21435</td>\n      <td>149</td>\n      <td>2.0</td>\n      <td>2005</td>\n      <td>NaN</td>\n      <td>NaN</td>\n      <td>3/7/2012 0:00</td>\n      <td>...</td>\n      <td>None or Unspecified</td>\n      <td>None or Unspecified</td>\n      <td>None or Unspecified</td>\n      <td>None or Unspecified</td>\n      <td>Double</td>\n      <td>NaN</td>\n      <td>NaN</td>\n      <td>NaN</td>\n      <td>NaN</td>\n      <td>NaN</td>\n    </tr>\n    <tr>\n      <th>412694</th>\n      <td>6333345</td>\n      <td>10500.0</td>\n      <td>1882122</td>\n      <td>21436</td>\n      <td>149</td>\n      <td>2.0</td>\n      <td>2005</td>\n      <td>NaN</td>\n      <td>NaN</td>\n      <td>1/28/2012 0:00</td>\n      <td>...</td>\n      <td>None or Unspecified</td>\n      <td>None or Unspecified</td>\n      <td>None or Unspecified</td>\n      <td>None or Unspecified</td>\n      <td>Double</td>\n      <td>NaN</td>\n      <td>NaN</td>\n      <td>NaN</td>\n      <td>NaN</td>\n      <td>NaN</td>\n    </tr>\n    <tr>\n      <th>412695</th>\n      <td>6333347</td>\n      <td>12500.0</td>\n      <td>1944213</td>\n      <td>21435</td>\n      <td>149</td>\n      <td>2.0</td>\n      <td>2005</td>\n      <td>NaN</td>\n      <td>NaN</td>\n      <td>1/28/2012 0:00</td>\n      <td>...</td>\n      <td>None or Unspecified</td>\n      <td>None or Unspecified</td>\n      <td>None or Unspecified</td>\n      <td>None or Unspecified</td>\n      <td>Double</td>\n      <td>NaN</td>\n      <td>NaN</td>\n      <td>NaN</td>\n      <td>NaN</td>\n      <td>NaN</td>\n    </tr>\n    <tr>\n      <th>412696</th>\n      <td>6333348</td>\n      <td>10000.0</td>\n      <td>1794518</td>\n      <td>21435</td>\n      <td>149</td>\n      <td>2.0</td>\n      <td>2006</td>\n      <td>NaN</td>\n      <td>NaN</td>\n      <td>3/7/2012 0:00</td>\n      <td>...</td>\n      <td>None or Unspecified</td>\n      <td>None or Unspecified</td>\n      <td>None or Unspecified</td>\n      <td>None or Unspecified</td>\n      <td>Double</td>\n      <td>NaN</td>\n      <td>NaN</td>\n      <td>NaN</td>\n      <td>NaN</td>\n      <td>NaN</td>\n    </tr>\n    <tr>\n      <th>412697</th>\n      <td>6333349</td>\n      <td>13000.0</td>\n      <td>1944743</td>\n      <td>21436</td>\n      <td>149</td>\n      <td>2.0</td>\n      <td>2006</td>\n      <td>NaN</td>\n      <td>NaN</td>\n      <td>1/28/2012 0:00</td>\n      <td>...</td>\n      <td>None or Unspecified</td>\n      <td>None or Unspecified</td>\n      <td>None or Unspecified</td>\n      <td>None or Unspecified</td>\n      <td>Double</td>\n      <td>NaN</td>\n      <td>NaN</td>\n      <td>NaN</td>\n      <td>NaN</td>\n      <td>NaN</td>\n    </tr>\n  </tbody>\n</table>\n<p>412698 rows × 53 columns</p>\n</div>"
     },
     "metadata": {},
     "execution_count": 8
    }
   ],
   "source": [
    "df # @katarinagresova"
   ]
  },
  {
   "cell_type": "code",
   "execution_count": null,
   "metadata": {},
   "outputs": [],
   "source": [
    "# TODO@jademuun  ja to urobim, len som sa teraz ucil ako robit vo visual studio code"
   ]
  }
 ]
}